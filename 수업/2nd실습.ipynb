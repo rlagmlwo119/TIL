{
 "cells": [
  {
   "cell_type": "code",
   "execution_count": 2,
   "metadata": {},
   "outputs": [
    {
     "name": "stdout",
     "output_type": "stream",
     "text": [
      "정수입력> 122\n",
      "짝수\n"
     ]
    }
   ],
   "source": [
    "number = input(\"정수입력> \")\n",
    "last_number = number[-1]\n",
    "\n",
    "if last_number in \"24680\":\n",
    "    print(\"짝수\")\n",
    "    \n",
    "if last_number in \"13579\":\n",
    "    print(\"홀수\")"
   ]
  },
  {
   "cell_type": "code",
   "execution_count": 4,
   "metadata": {},
   "outputs": [
    {
     "name": "stdout",
     "output_type": "stream",
     "text": [
      "숫자 입력> 1234\n",
      "짝수\n"
     ]
    }
   ],
   "source": [
    "number = int(input(\"숫자 입력> \"))\n",
    "\n",
    "if number % 2 == 0:\n",
    "    print(\"짝수\")\n",
    "    \n",
    "if number % 2 ==1:\n",
    "    print(\"홀수\")"
   ]
  },
  {
   "cell_type": "code",
   "execution_count": 3,
   "metadata": {},
   "outputs": [
    {
     "name": "stdout",
     "output_type": "stream",
     "text": [
      "> 1번째 숫자: 100\n",
      "> 2번째 숫자: 10\n",
      "\n",
      "처음 입력했던 100.0가 10.0보다 더 큽니다\n"
     ]
    }
   ],
   "source": [
    "a = float(input(\"> 1번째 숫자: \"))\n",
    "b = float(input(\"> 2번째 숫자: \"))\n",
    "print()\n",
    "\n",
    "if a > b:\n",
    "    print(\"처음 입력했던 {}가 {}보다 더 큽니다\".format(a, b))\n",
    "\n",
    "if a < b:\n",
    "    print(\"두 번째로 입력했던 {}가 {}보다 더 큽니다\".format(b, a))\n",
    "    \n",
    "if a == b:\n",
    "    print(\"두 숫자는 같다\")"
   ]
  },
  {
   "cell_type": "code",
   "execution_count": 14,
   "metadata": {},
   "outputs": [
    {
     "name": "stdout",
     "output_type": "stream",
     "text": [
      "년도 입력> 1000\n",
      "평년\n"
     ]
    }
   ],
   "source": [
    "year = int(input(\"년도 입력> \"))\n",
    "if year % 1000 == 0:\n",
    "    print(\"평년\")\n",
    "elif year % 4 == 0:\n",
    "    print(\"윤년\")\n",
    "else:\n",
    "    print(\"평년\")"
   ]
  },
  {
   "cell_type": "code",
   "execution_count": 16,
   "metadata": {},
   "outputs": [
    {
     "name": "stdout",
     "output_type": "stream",
     "text": [
      "년도 입력> 2020\n",
      "추후 구현\n"
     ]
    }
   ],
   "source": [
    "year = int(input(\"년도 입력> \"))\n",
    "try:\n",
    "    if year % 1000 == 0:\n",
    "        print(\"평년\")\n",
    "    elif year % 4 == 0:\n",
    "        raise NotImplementedError\n",
    "    else:\n",
    "        print(\"평년\")\n",
    "except:\n",
    "    print(\"추후 구현\")"
   ]
  },
  {
   "cell_type": "code",
   "execution_count": 1,
   "metadata": {},
   "outputs": [
    {
     "name": "stdout",
     "output_type": "stream",
     "text": [
      "정수 입력> 4567890234\n",
      "짝수\n"
     ]
    }
   ],
   "source": [
    "number = int(input(\"정수 입력> \"))\n",
    "if number % 2 ==0:\n",
    "    print(\"짝수\")\n",
    "else:\n",
    "    print(\"홀수\")"
   ]
  },
  {
   "cell_type": "code",
   "execution_count": 3,
   "metadata": {},
   "outputs": [
    {
     "name": "stdout",
     "output_type": "stream",
     "text": [
      "학점 입력> 2.8\n",
      "일반인\n"
     ]
    }
   ],
   "source": [
    "score = float(input(\"학점 입력> \"))\n",
    "\n",
    "if score == 4.5:\n",
    "    print(\"신\")\n",
    "elif 4.2 <= score:\n",
    "    print(\"교수님의 사랑\")\n",
    "elif 3.5 <= score:\n",
    "    print(\"현 체제의 수호자\")\n",
    "elif 2.8 <= score:\n",
    "    print(\"일반인\")\n",
    "elif 2.3 <= score:\n",
    "    print(\"일탈을 꿈꾸는 소시민\")\n",
    "elif 1.75 <= score:\n",
    "    print(\"오락문화의 선구자\")\n",
    "elif 1.0 <= score:\n",
    "    print(\"불가촉천민\")\n",
    "elif 0.5 <= score:\n",
    "    print(\"자벌레\")\n",
    "elif 0 < score:\n",
    "    print(\"플랑크톤\")\n",
    "else:\n",
    "    print(\"시대를 앞서가는 혁명의 씨앗\")"
   ]
  },
  {
   "cell_type": "code",
   "execution_count": 21,
   "metadata": {},
   "outputs": [
    {
     "name": "stdout",
     "output_type": "stream",
     "text": [
      "태어난해 입력> 1964\n",
      "용띠\n"
     ]
    }
   ],
   "source": [
    "birth_year = int(input(\"태어난해 입력> \"))\n",
    "if birth_year % 12 == 0:\n",
    "    print(\"원숭이띠\")\n",
    "elif birth_year % 12 == 1:\n",
    "    print(\"닭띠\")\n",
    "elif birth_year % 12 == 2:\n",
    "    print(\"개띠\")\n",
    "elif birth_year % 12 == 3:\n",
    "    print(\"돼지띠\")\n",
    "elif birth_year % 12 == 4:\n",
    "    print(\"쥐띠\")\n",
    "elif birth_year % 12 == 5:\n",
    "    print(\"소띠\")\n",
    "elif birth_year % 12 == 6:\n",
    "    print(\"범띠\")\n",
    "elif birth_year % 12 == 7:\n",
    "    print(\"토끼띠\")\n",
    "elif birth_year % 12 == 8:\n",
    "    print(\"용띠\")\n",
    "elif birth_year % 12 == 9:\n",
    "    print(\"뱀띠\")\n",
    "elif birth_year % 12 == 10:\n",
    "    print(\"말띠\")\n",
    "else :\n",
    "    print(\"양띠\")\n",
    "    "
   ]
  },
  {
   "cell_type": "code",
   "execution_count": 20,
   "metadata": {},
   "outputs": [],
   "source": [
    "list_a = [273, 32, 103, \"문자열\", True, False]"
   ]
  },
  {
   "cell_type": "code",
   "execution_count": 8,
   "metadata": {},
   "outputs": [
    {
     "data": {
      "text/plain": [
       "False"
      ]
     },
     "execution_count": 8,
     "metadata": {},
     "output_type": "execute_result"
    }
   ],
   "source": [
    "list_a[-1]"
   ]
  },
  {
   "cell_type": "code",
   "execution_count": 9,
   "metadata": {},
   "outputs": [
    {
     "data": {
      "text/plain": [
       "True"
      ]
     },
     "execution_count": 9,
     "metadata": {},
     "output_type": "execute_result"
    }
   ],
   "source": [
    "list_a[-2]"
   ]
  },
  {
   "cell_type": "code",
   "execution_count": 10,
   "metadata": {},
   "outputs": [
    {
     "data": {
      "text/plain": [
       "'문자열'"
      ]
     },
     "execution_count": 10,
     "metadata": {},
     "output_type": "execute_result"
    }
   ],
   "source": [
    "list_a[-3]"
   ]
  },
  {
   "cell_type": "code",
   "execution_count": 11,
   "metadata": {},
   "outputs": [
    {
     "data": {
      "text/plain": [
       "'문자열'"
      ]
     },
     "execution_count": 11,
     "metadata": {},
     "output_type": "execute_result"
    }
   ],
   "source": [
    "list_a[3]"
   ]
  },
  {
   "cell_type": "code",
   "execution_count": 12,
   "metadata": {},
   "outputs": [
    {
     "data": {
      "text/plain": [
       "'문'"
      ]
     },
     "execution_count": 12,
     "metadata": {},
     "output_type": "execute_result"
    }
   ],
   "source": [
    "list_a[3][0]"
   ]
  },
  {
   "cell_type": "code",
   "execution_count": 13,
   "metadata": {},
   "outputs": [
    {
     "data": {
      "text/plain": [
       "str"
      ]
     },
     "execution_count": 13,
     "metadata": {},
     "output_type": "execute_result"
    }
   ],
   "source": [
    "type(list_a[3][0])"
   ]
  },
  {
   "cell_type": "code",
   "execution_count": 14,
   "metadata": {},
   "outputs": [],
   "source": [
    "list_b = [[1, 2, 3], [4, 5, 6], [7, 8, 9]]"
   ]
  },
  {
   "cell_type": "code",
   "execution_count": 15,
   "metadata": {},
   "outputs": [
    {
     "data": {
      "text/plain": [
       "[4, 5, 6]"
      ]
     },
     "execution_count": 15,
     "metadata": {},
     "output_type": "execute_result"
    }
   ],
   "source": [
    "list_b[1]"
   ]
  },
  {
   "cell_type": "code",
   "execution_count": 16,
   "metadata": {},
   "outputs": [
    {
     "data": {
      "text/plain": [
       "4"
      ]
     },
     "execution_count": 16,
     "metadata": {},
     "output_type": "execute_result"
    }
   ],
   "source": [
    "list_b[1][0]"
   ]
  },
  {
   "cell_type": "code",
   "execution_count": 22,
   "metadata": {},
   "outputs": [],
   "source": [
    "list_a = [1, 2, 3]\n",
    "list_b = [4, 5, 6]"
   ]
  },
  {
   "cell_type": "code",
   "execution_count": 23,
   "metadata": {},
   "outputs": [
    {
     "data": {
      "text/plain": [
       "[1, 2, 3, 4, 5, 6]"
      ]
     },
     "execution_count": 23,
     "metadata": {},
     "output_type": "execute_result"
    }
   ],
   "source": [
    "list_a + list_b"
   ]
  },
  {
   "cell_type": "code",
   "execution_count": 24,
   "metadata": {},
   "outputs": [
    {
     "data": {
      "text/plain": [
       "3"
      ]
     },
     "execution_count": 24,
     "metadata": {},
     "output_type": "execute_result"
    }
   ],
   "source": [
    "len(list_a)"
   ]
  },
  {
   "cell_type": "code",
   "execution_count": 25,
   "metadata": {},
   "outputs": [
    {
     "data": {
      "text/plain": [
       "int"
      ]
     },
     "execution_count": 25,
     "metadata": {},
     "output_type": "execute_result"
    }
   ],
   "source": [
    "type(len(list_a))"
   ]
  },
  {
   "cell_type": "code",
   "execution_count": 26,
   "metadata": {},
   "outputs": [],
   "source": [
    "list_a.append(4)"
   ]
  },
  {
   "cell_type": "code",
   "execution_count": 27,
   "metadata": {},
   "outputs": [
    {
     "data": {
      "text/plain": [
       "[1, 2, 3, 4]"
      ]
     },
     "execution_count": 27,
     "metadata": {},
     "output_type": "execute_result"
    }
   ],
   "source": [
    "list_a"
   ]
  },
  {
   "cell_type": "code",
   "execution_count": 28,
   "metadata": {},
   "outputs": [
    {
     "ename": "TypeError",
     "evalue": "insert() takes exactly 2 arguments (1 given)",
     "output_type": "error",
     "traceback": [
      "\u001b[1;31m---------------------------------------------------------------------------\u001b[0m",
      "\u001b[1;31mTypeError\u001b[0m                                 Traceback (most recent call last)",
      "\u001b[1;32m<ipython-input-28-8938f9f8b0ce>\u001b[0m in \u001b[0;36m<module>\u001b[1;34m\u001b[0m\n\u001b[1;32m----> 1\u001b[1;33m \u001b[0mlist_a\u001b[0m\u001b[1;33m.\u001b[0m\u001b[0minsert\u001b[0m\u001b[1;33m(\u001b[0m\u001b[1;36m5\u001b[0m\u001b[1;33m)\u001b[0m\u001b[1;33m\u001b[0m\u001b[1;33m\u001b[0m\u001b[0m\n\u001b[0m",
      "\u001b[1;31mTypeError\u001b[0m: insert() takes exactly 2 arguments (1 given)"
     ]
    }
   ],
   "source": [
    "list_a.insert(5)"
   ]
  },
  {
   "cell_type": "code",
   "execution_count": 29,
   "metadata": {},
   "outputs": [],
   "source": [
    "list_a.insert(5, 4)"
   ]
  },
  {
   "cell_type": "code",
   "execution_count": 30,
   "metadata": {},
   "outputs": [
    {
     "data": {
      "text/plain": [
       "[1, 2, 3, 4, 4]"
      ]
     },
     "execution_count": 30,
     "metadata": {},
     "output_type": "execute_result"
    }
   ],
   "source": [
    "list_a"
   ]
  },
  {
   "cell_type": "code",
   "execution_count": 31,
   "metadata": {},
   "outputs": [],
   "source": [
    "list_a[4] = 5"
   ]
  },
  {
   "cell_type": "code",
   "execution_count": 32,
   "metadata": {},
   "outputs": [
    {
     "data": {
      "text/plain": [
       "[1, 2, 3, 4, 5]"
      ]
     },
     "execution_count": 32,
     "metadata": {},
     "output_type": "execute_result"
    }
   ],
   "source": [
    "list_a"
   ]
  },
  {
   "cell_type": "code",
   "execution_count": 33,
   "metadata": {},
   "outputs": [],
   "source": [
    "del list_a"
   ]
  },
  {
   "cell_type": "code",
   "execution_count": 34,
   "metadata": {},
   "outputs": [
    {
     "ename": "NameError",
     "evalue": "name 'list_a' is not defined",
     "output_type": "error",
     "traceback": [
      "\u001b[1;31m---------------------------------------------------------------------------\u001b[0m",
      "\u001b[1;31mNameError\u001b[0m                                 Traceback (most recent call last)",
      "\u001b[1;32m<ipython-input-34-1dc2d082cc20>\u001b[0m in \u001b[0;36m<module>\u001b[1;34m\u001b[0m\n\u001b[1;32m----> 1\u001b[1;33m \u001b[0mlist_a\u001b[0m\u001b[1;33m\u001b[0m\u001b[1;33m\u001b[0m\u001b[0m\n\u001b[0m",
      "\u001b[1;31mNameError\u001b[0m: name 'list_a' is not defined"
     ]
    }
   ],
   "source": [
    "list_a"
   ]
  },
  {
   "cell_type": "code",
   "execution_count": 35,
   "metadata": {},
   "outputs": [],
   "source": [
    "list_a = [1, 2, 3, 4]"
   ]
  },
  {
   "cell_type": "code",
   "execution_count": 36,
   "metadata": {},
   "outputs": [],
   "source": [
    "del list_a"
   ]
  },
  {
   "cell_type": "code",
   "execution_count": 37,
   "metadata": {},
   "outputs": [
    {
     "ename": "NameError",
     "evalue": "name 'list_a' is not defined",
     "output_type": "error",
     "traceback": [
      "\u001b[1;31m---------------------------------------------------------------------------\u001b[0m",
      "\u001b[1;31mNameError\u001b[0m                                 Traceback (most recent call last)",
      "\u001b[1;32m<ipython-input-37-1dc2d082cc20>\u001b[0m in \u001b[0;36m<module>\u001b[1;34m\u001b[0m\n\u001b[1;32m----> 1\u001b[1;33m \u001b[0mlist_a\u001b[0m\u001b[1;33m\u001b[0m\u001b[1;33m\u001b[0m\u001b[0m\n\u001b[0m",
      "\u001b[1;31mNameError\u001b[0m: name 'list_a' is not defined"
     ]
    }
   ],
   "source": [
    "list_a"
   ]
  },
  {
   "cell_type": "code",
   "execution_count": 38,
   "metadata": {},
   "outputs": [],
   "source": [
    "list_a = [1, 2, 3, 4]"
   ]
  },
  {
   "cell_type": "code",
   "execution_count": 39,
   "metadata": {},
   "outputs": [],
   "source": [
    "list_a.clear()"
   ]
  },
  {
   "cell_type": "code",
   "execution_count": 40,
   "metadata": {},
   "outputs": [
    {
     "data": {
      "text/plain": [
       "[]"
      ]
     },
     "execution_count": 40,
     "metadata": {},
     "output_type": "execute_result"
    }
   ],
   "source": [
    "list_a"
   ]
  },
  {
   "cell_type": "code",
   "execution_count": 41,
   "metadata": {},
   "outputs": [],
   "source": [
    "list_a.extend(list_a)"
   ]
  },
  {
   "cell_type": "code",
   "execution_count": 42,
   "metadata": {},
   "outputs": [
    {
     "data": {
      "text/plain": [
       "[]"
      ]
     },
     "execution_count": 42,
     "metadata": {},
     "output_type": "execute_result"
    }
   ],
   "source": [
    "list_a"
   ]
  },
  {
   "cell_type": "code",
   "execution_count": 43,
   "metadata": {},
   "outputs": [],
   "source": [
    "list_a.extend([1, 2, 3, 4, 5])"
   ]
  },
  {
   "cell_type": "code",
   "execution_count": 44,
   "metadata": {},
   "outputs": [
    {
     "data": {
      "text/plain": [
       "[1, 2, 3, 4, 5]"
      ]
     },
     "execution_count": 44,
     "metadata": {},
     "output_type": "execute_result"
    }
   ],
   "source": [
    "list_a"
   ]
  },
  {
   "cell_type": "code",
   "execution_count": 45,
   "metadata": {},
   "outputs": [
    {
     "name": "stdout",
     "output_type": "stream",
     "text": [
      "273 는 홀수 입니다.\n",
      "103 는 홀수 입니다.\n",
      "5 는 홀수 입니다.\n",
      "32 는 짝수 입니다.\n",
      "65 는 홀수 입니다.\n",
      "9 는 홀수 입니다.\n",
      "72 는 짝수 입니다.\n",
      "800 는 짝수 입니다.\n",
      "99 는 홀수 입니다.\n"
     ]
    }
   ],
   "source": [
    "number_list = [273, 103, 5, 32, 65, 9, 72, 800, 99]\n",
    "\n",
    "for number in number_list:\n",
    "    if number % 2 == 0:\n",
    "        print(number, \"는 짝수 입니다.\")\n",
    "    else:\n",
    "        print(number, \"는 홀수 입니다.\")"
   ]
  },
  {
   "cell_type": "code",
   "execution_count": 52,
   "metadata": {},
   "outputs": [
    {
     "name": "stdout",
     "output_type": "stream",
     "text": [
      "273 는 3 자릿수 입니다.\n",
      "103 는 3 자릿수 입니다.\n",
      "5 는 1 자릿수 입니다.\n",
      "32 는 2 자릿수 입니다.\n",
      "65 는 2 자릿수 입니다.\n",
      "9 는 1 자릿수 입니다.\n",
      "72 는 2 자릿수 입니다.\n",
      "800 는 3 자릿수 입니다.\n",
      "99 는 2 자릿수 입니다.\n"
     ]
    }
   ],
   "source": [
    "for number in number_list:\n",
    "    print(number, \"는\", len(str(number)), \"자릿수 입니다.\")"
   ]
  },
  {
   "cell_type": "code",
   "execution_count": 56,
   "metadata": {},
   "outputs": [
    {
     "name": "stdout",
     "output_type": "stream",
     "text": [
      "1\n",
      "2\n",
      "3\n",
      "4\n",
      "5\n",
      "6\n",
      "7\n",
      "8\n",
      "9\n"
     ]
    }
   ],
   "source": [
    "list_of_list = [[1, 2, 3], [4, 5, 6, 7], [8, 9]]\n",
    "for element in list_of_list:\n",
    "    #print(element)\n",
    "    for e in element:\n",
    "        print(e)"
   ]
  },
  {
   "cell_type": "code",
   "execution_count": 81,
   "metadata": {},
   "outputs": [
    {
     "name": "stdout",
     "output_type": "stream",
     "text": [
      "[[1, 4, 7], [2, 5, 8], [3, 6, 9]]\n"
     ]
    }
   ],
   "source": [
    "number_list_a = [1, 2, 3, 4, 5, 6, 7, 8, 9]\n",
    "output = [[], [], []]\n",
    "\n",
    "for number in number_list_a:\n",
    "    output[(number + 2) % 3].append(number)\n",
    "print(output)"
   ]
  },
  {
   "cell_type": "code",
   "execution_count": 51,
   "metadata": {},
   "outputs": [
    {
     "name": "stdout",
     "output_type": "stream",
     "text": [
      "- 100 이상의 수: 273\n",
      "- 100 이상의 수: 103\n",
      "- 100 이상의 수: 800\n"
     ]
    }
   ],
   "source": [
    "for number in number_list:\n",
    "    if number > 99:\n",
    "        print(\"- 100 이상의 수:\", number)"
   ]
  },
  {
   "cell_type": "code",
   "execution_count": 91,
   "metadata": {},
   "outputs": [
    {
     "name": "stdout",
     "output_type": "stream",
     "text": [
      "name: 7D 건조 망고\n",
      "type: 당절임\n",
      "ingredient: ['망고', '설탕', '메타중아황산나트륨', '치자황색소']\n",
      "origin: 필리핀\n",
      "\n",
      "name: 8D 건조 망고\n"
     ]
    }
   ],
   "source": [
    "dictionary = {\n",
    "    \"name\": \"7D 건조 망고\", \n",
    "    \"type\": \"당절임\", \n",
    "    \"ingredient\": [\"망고\", \"설탕\", \"메타중아황산나트륨\", \"치자황색소\"],\n",
    "    \"origin\": \"필리핀\"\n",
    "}\n",
    "print(\"name:\", dictionary[\"name\"])\n",
    "print(\"type:\", dictionary[\"type\"])\n",
    "print(\"ingredient:\", dictionary[\"ingredient\"])\n",
    "print(\"origin:\", dictionary[\"origin\"])\n",
    "print()\n",
    "\n",
    "dictionary[\"name\"] = \"8D 건조 망고\"\n",
    "print(\"name:\", dictionary[\"name\"])"
   ]
  },
  {
   "cell_type": "code",
   "execution_count": 92,
   "metadata": {},
   "outputs": [
    {
     "name": "stdout",
     "output_type": "stream",
     "text": [
      "요소 추가 이전: {}\n",
      "요수 추가 이후: {'name': '새로운 이름', 'head': '새로운 정신', 'body': '새로운 몸'}\n"
     ]
    }
   ],
   "source": [
    "dictionary = {}\n",
    "print(\"요소 추가 이전:\", dictionary)\n",
    "dictionary[\"name\"] = \"새로운 이름\"\n",
    "dictionary[\"head\"] = \"새로운 정신\"\n",
    "dictionary[\"body\"] = \"새로운 몸\"\n",
    "print(\"요수 추가 이후:\", dictionary)"
   ]
  },
  {
   "cell_type": "code",
   "execution_count": 93,
   "metadata": {},
   "outputs": [
    {
     "name": "stdout",
     "output_type": "stream",
     "text": [
      "요소 제거 이전: {'name': '7D 건조 망고', 'type': '당절임'}\n",
      "요소 제거 이후: {}\n"
     ]
    }
   ],
   "source": [
    "dictionary = {\n",
    "    \"name\": \"7D 건조 망고\",\n",
    "    \"type\": \"당절임\"\n",
    "}\n",
    "print(\"요소 제거 이전:\", dictionary)\n",
    "del dictionary[\"name\"]\n",
    "del dictionary[\"type\"]\n",
    "print(\"요소 제거 이후:\", dictionary)"
   ]
  },
  {
   "cell_type": "code",
   "execution_count": 96,
   "metadata": {},
   "outputs": [
    {
     "name": "stdout",
     "output_type": "stream",
     "text": [
      "> 접근하고자 하는 키:ingredient\n",
      "['망고', '설탕', '메타중아황산나트륨', '치자황색소']\n"
     ]
    }
   ],
   "source": [
    "dictionary = {\n",
    "    \"name\": \"7D 건조 망고\",\n",
    "    \"type\": \"당절임\",\n",
    "    \"ingredient\": [\"망고\", \"설탕\", \"메타중아황산나트륨\", \"치자황색소\"],\n",
    "    \"origin\": \"필리핀\"\n",
    "}\n",
    "key = input(\"> 접근하고자 하는 키:\")\n",
    "\n",
    "if key in dictionary:\n",
    "    print(dictionary[key])\n",
    "else:\n",
    "    print(\"존재하지 않는 키에 접근중\")"
   ]
  },
  {
   "cell_type": "code",
   "execution_count": 97,
   "metadata": {},
   "outputs": [
    {
     "name": "stdout",
     "output_type": "stream",
     "text": [
      "값: None\n",
      "존재하지 않는 키에 접근했었음\n"
     ]
    }
   ],
   "source": [
    "value = dictionary.get(\"존재하지 않는 키\")\n",
    "print(\"값:\", value)\n",
    "\n",
    "if value == None:\n",
    "    print(\"존재하지 않는 키에 접근했었음\")"
   ]
  },
  {
   "cell_type": "code",
   "execution_count": 98,
   "metadata": {},
   "outputs": [
    {
     "name": "stdout",
     "output_type": "stream",
     "text": [
      "name : 7D 건조 망고\n",
      "type : 당절임\n",
      "ingredient : ['망고', '설탕', '메타중아황산나트륨', '치자황색소']\n",
      "origin : 필리핀\n"
     ]
    }
   ],
   "source": [
    "for key in dictionary:\n",
    "    print(key, \":\", dictionary[key])"
   ]
  },
  {
   "cell_type": "code",
   "execution_count": 131,
   "metadata": {},
   "outputs": [
    {
     "name": "stdout",
     "output_type": "stream",
     "text": [
      "#우리 동네 애완 동물들\n",
      "구름 5 살\n",
      "초코 3 살\n",
      "아지 1 살\n",
      "호랑이 1 살\n"
     ]
    }
   ],
   "source": [
    "pet = [\n",
    "    {\"name\": \"구름\", \"age\": 5},\n",
    "    {\"name\": \"초코\", \"age\": 3},\n",
    "    {\"name\": \"아지\", \"age\": 1},\n",
    "    {\"name\": \"호랑이\", \"age\": 1}\n",
    "]\n",
    "print(\"#우리 동네 애완 동물들\")\n",
    "for key in pet:\n",
    "    print(key[\"name\"], key[\"age\"], \"살\")"
   ]
  },
  {
   "cell_type": "markdown",
   "metadata": {},
   "source": [
    "number_list = [1, 2, 3, 4, 5, 6]"
   ]
  },
  {
   "cell_type": "code",
   "execution_count": 136,
   "metadata": {},
   "outputs": [
    {
     "name": "stdout",
     "output_type": "stream",
     "text": [
      "{1: 3, 2: 4, 6: 1, 8: 2, 4: 3, 3: 3, 9: 3, 5: 2, 7: 2}\n"
     ]
    }
   ],
   "source": [
    "number_list = [1, 2, 6, 8, 4, 3, 2, 1, 9, 5, 4, 9, 7, 2, 1, 3, 5, 4, 8, 9, 7, 2, 3]\n",
    "counter = {}\n",
    "for number in number_list:\n",
    "    if number in counter:\n",
    "        counter[number] = counter[number] + 1\n",
    "    else:\n",
    "        counter[number] = 1\n",
    "\n",
    "print(counter)"
   ]
  },
  {
   "cell_type": "code",
   "execution_count": null,
   "metadata": {},
   "outputs": [],
   "source": []
  }
 ],
 "metadata": {
  "kernelspec": {
   "display_name": "Python 3",
   "language": "python",
   "name": "python3"
  },
  "language_info": {
   "codemirror_mode": {
    "name": "ipython",
    "version": 3
   },
   "file_extension": ".py",
   "mimetype": "text/x-python",
   "name": "python",
   "nbconvert_exporter": "python",
   "pygments_lexer": "ipython3",
   "version": "3.7.4"
  }
 },
 "nbformat": 4,
 "nbformat_minor": 2
}
