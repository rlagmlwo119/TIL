{
 "cells": [
  {
   "cell_type": "code",
   "execution_count": 56,
   "metadata": {},
   "outputs": [
    {
     "name": "stdout",
     "output_type": "stream",
     "text": [
      "#우리동네 애완동물들\n",
      "구름 5살\n",
      "초코 3살\n",
      "아지 1살\n",
      "호랑이 1살\n",
      "<class 'int'>\n"
     ]
    }
   ],
   "source": [
    "pets = [{\n",
    "    \"name\": \"구름\", \"age\": 5},\n",
    "    {\"name\": \"초코\", \"age\": 3},\n",
    "    {\"name\": \"아지\", \"age\": 1},\n",
    "    {\"name\": \"호랑이\", \"age\": 1}\n",
    "]\n",
    "print(\"#우리동네 애완동물들\")\n",
    "for pet in pets:\n",
    "    print(\"{} {}살\".format(pet[\"name\"], pet[\"age\"]))\n",
    "print(type(pet[\"age\"]))"
   ]
  },
  {
   "cell_type": "code",
   "execution_count": 2,
   "metadata": {},
   "outputs": [
    {
     "name": "stdout",
     "output_type": "stream",
     "text": [
      "{1: 3, 2: 4, 6: 1, 8: 2, 4: 3, 3: 3, 9: 3, 5: 2, 7: 2}\n"
     ]
    }
   ],
   "source": [
    "numbers = [1, 2, 6, 8, 4, 3, 2, 1, 9, 5, 4, 9, 7, 2, 1, 3, 5, 4, 8, 9, 7, 2, 3]\n",
    "counter = {}\n",
    "for number in numbers:\n",
    "    if number in counter:\n",
    "        counter[number] = counter[number] + 1\n",
    "    else:\n",
    "        counter[number] = 1\n",
    "\n",
    "print(counter)"
   ]
  },
  {
   "cell_type": "code",
   "execution_count": 37,
   "metadata": {},
   "outputs": [
    {
     "name": "stdout",
     "output_type": "stream",
     "text": [
      "name : 기사\n",
      "level : 12\n",
      "sword : 불꽃의 검\n",
      "amor : 풀플레이트\n",
      "skill : 베기\n",
      "skill : 세게 베기\n",
      "skill : 아주 세게 베기\n"
     ]
    }
   ],
   "source": [
    "character = {\n",
    "    \"name\": \"기사\",\n",
    "    \"level\": 12,\n",
    "    \"items\": {\n",
    "        \"sword\": \"불꽃의 검\",\n",
    "        \"amor\": \"풀플레이트\"\n",
    "    },\n",
    "    \"skill\": [\"베기\", \"세게 베기\", \"아주 세게 베기\"]\n",
    "}\n",
    "for key in character:\n",
    "    if type(character[key]) is dict:\n",
    "        for i in character[key]:\n",
    "            print(i, \":\", character[key][i])\n",
    "    elif type(character[key]) is list:\n",
    "        for s in character[key]:\n",
    "            print(key, \":\", s)\n",
    "    else:\n",
    "        print(key, \":\", character[key])"
   ]
  },
  {
   "cell_type": "code",
   "execution_count": 45,
   "metadata": {},
   "outputs": [
    {
     "name": "stdout",
     "output_type": "stream",
     "text": [
      "name : 기사\n",
      "level : 12\n",
      "sword : 불꽃의 검\n",
      "armor : 풀플레이트\n",
      "skill : 베기\n",
      "skill : 세게 베기\n",
      "skill : 아주 세게 베기\n"
     ]
    }
   ],
   "source": [
    "character = {\n",
    "    \"name\": \"기사\",\n",
    "    \"level\": 12,\n",
    "    \"items\": {\n",
    "        \"sword\": \"불꽃의 검\",\n",
    "        \"armor\": \"풀플레이트\"\n",
    "    },\n",
    "    \"skill\": [\"베기\", \"세게 베기\", \"아주 세게 베기\"]\n",
    "}\n",
    "for key in character:\n",
    "    if type(character[key]) is dict:\n",
    "        for i in character[key]:\n",
    "            print(\"{} : {}\".format(i, character[key][i]))\n",
    "    elif type(character[key]) is list:\n",
    "        for s in character[key]:\n",
    "            print(\"{} : {}\".format(key, s))\n",
    "    else:\n",
    "        print(\"{} : {}\".format(key, character[key]))"
   ]
  },
  {
   "cell_type": "code",
   "execution_count": 46,
   "metadata": {},
   "outputs": [
    {
     "name": "stdout",
     "output_type": "stream",
     "text": [
      "name : 기사\n",
      "level : 12\n",
      "sword : 불꽃의 검\n",
      "armor : 풀플레이트\n",
      "skill : 베기\n",
      "skill : 세게 베기\n",
      "skill : 아주 세게 베기\n"
     ]
    }
   ],
   "source": [
    "character = {\n",
    "    \"name\": \"기사\",\n",
    "    \"level\": 12,\n",
    "    \"items\": {\n",
    "        \"sword\": \"불꽃의 검\",\n",
    "        \"armor\": \"풀플레이트\"\n",
    "    },\n",
    "    \"skill\": [\"베기\", \"세게 베기\", \"아주 세게 베기\"]\n",
    "}\n",
    "for key in character:\n",
    "    if type(character[key]) is dict:\n",
    "        for i in character[key]:\n",
    "            print(\"{} : {}\".format(i, character[key][i]))\n",
    "    elif type(character[key]) is list:\n",
    "        for s in character[key]:\n",
    "            print(\"{} : {}\".format(key, s))\n",
    "    else:\n",
    "        print(\"{} : {}\".format(key, character[key]))"
   ]
  },
  {
   "cell_type": "code",
   "execution_count": 47,
   "metadata": {},
   "outputs": [
    {
     "name": "stdout",
     "output_type": "stream",
     "text": [
      "{1: 4, 2: 4, 3: 4, 4: 1, 5: 2, 6: 3, 7: 3, 8: 2, 9: 1}\n"
     ]
    }
   ],
   "source": [
    "numbers = [1, 2, 3, 4, 5, 6, 7, 8, 1, 2, 3, 5, 6, 2, 1, 6, 7, 9, 1, 2, 3, 3, 7, 8]\n",
    "counter = {}\n",
    "for number in numbers:\n",
    "    if number in counter:\n",
    "        counter[number] = counter[number] + 1\n",
    "    else:\n",
    "        counter[number] = 1\n",
    "print(counter)"
   ]
  },
  {
   "cell_type": "code",
   "execution_count": 57,
   "metadata": {},
   "outputs": [
    {
     "name": "stdout",
     "output_type": "stream",
     "text": [
      "name : 기사\n",
      "level : 12\n",
      "sword : 불꽃의 검\n",
      "armor : 풀플레이트\n",
      "skill : 베기\n",
      "skill : 세게 베기\n",
      "skill : 아주 세게 베기\n"
     ]
    }
   ],
   "source": [
    "character = {\n",
    "    \"name\": \"기사\",\n",
    "    \"level\": 12,\n",
    "    \"items\": {\n",
    "        \"sword\": \"불꽃의 검\",\n",
    "        \"armor\": \"풀플레이트\"\n",
    "    },\n",
    "    \"skill\": [\"베기\", \"세게 베기\", \"아주 세게 베기\"]\n",
    "}\n",
    "for key in character:\n",
    "    if type(character[key]) is dict:\n",
    "        for i in character[key]:\n",
    "            print(\"{} : {}\".format(i, character[key][i]))\n",
    "    elif type(character[key]) is list:\n",
    "        for s in character[key]:\n",
    "            print(\"{} : {}\".format(key, s))\n",
    "    else:\n",
    "        print(\"{} : {}\".format(key, character[key]))"
   ]
  },
  {
   "cell_type": "code",
   "execution_count": 58,
   "metadata": {},
   "outputs": [
    {
     "name": "stdout",
     "output_type": "stream",
     "text": [
      "# 우리 동네 애완 동물들\n",
      "구름 5살\n",
      "초코 3살\n",
      "아지 1살\n",
      "호랑이 1살\n"
     ]
    }
   ],
   "source": [
    "pets = [{\n",
    "    \"name\": \"구름\", \"age\": 5},\n",
    "    {\"name\": \"초코\", \"age\": 3},\n",
    "    {\"name\": \"아지\", \"age\": 1},\n",
    "    {\"name\": \"호랑이\", \"age\": 1}\n",
    "]\n",
    "print(\"# 우리 동네 애완 동물들\")\n",
    "for pet in pets:\n",
    "    print(\"{} {}살\".format(pet[\"name\"], pet[\"age\"]))"
   ]
  },
  {
   "cell_type": "code",
   "execution_count": 60,
   "metadata": {},
   "outputs": [
    {
     "name": "stdout",
     "output_type": "stream",
     "text": [
      "{1: 6, 2: 4, 3: 4, 5: 3, 8: 3, 13: 1, 21: 1, 34: 1, 55: 1, 4: 3, 6: 2, 7: 3, 9: 2, 0: 1}\n"
     ]
    }
   ],
   "source": [
    "numbers = [1, 1, 2, 3, 5, 8, 13, 21, 34, 55, 1, 2, 3, 4, 5, 6, 7, 8, 9, 0, 1, 1, 2, 3, 4, 5, 6, 7, 2, 3, 4, 1, 7, 8, 9]\n",
    "counter = {}\n",
    "for number in numbers:\n",
    "    if number in counter:\n",
    "        counter[number] = counter[number] + 1\n",
    "    else:\n",
    "        counter[number] = 1\n",
    "print(counter)"
   ]
  },
  {
   "cell_type": "code",
   "execution_count": 62,
   "metadata": {},
   "outputs": [
    {
     "name": "stdout",
     "output_type": "stream",
     "text": [
      "name : 기사\n",
      "level : 12\n",
      "sword : 불꽃의 검\n",
      "armor : 풀플레이트\n",
      "skill : 베기\n",
      "skill : 세게 베기\n",
      "skill : 아주 세게 베기\n"
     ]
    }
   ],
   "source": [
    "character = {\n",
    "    \"name\": \"기사\",\n",
    "    \"level\": 12,\n",
    "    \"items\": {\n",
    "        \"sword\": \"불꽃의 검\",\n",
    "        \"armor\": \"풀플레이트\"\n",
    "    },\n",
    "    \"skill\": [\"베기\", \"세게 베기\", \"아주 세게 베기\"]\n",
    "}\n",
    "for key in character:\n",
    "    if type(character[key]) is dict:\n",
    "        for i in character[key]:\n",
    "            print(\"{} : {}\".format(i, character[key][i]))\n",
    "    elif type(character[key]) is list:\n",
    "        for s in character[key]:\n",
    "            print(\"{} : {}\".format(key, s))\n",
    "    else:\n",
    "        print(\"{} : {}\".format(key, character[key]))"
   ]
  },
  {
   "cell_type": "code",
   "execution_count": 63,
   "metadata": {},
   "outputs": [
    {
     "name": "stdout",
     "output_type": "stream",
     "text": [
      "- 100 이상의 수: 273\n",
      "- 100 이상의 수: 103\n",
      "- 100 이상의 수: 800\n"
     ]
    }
   ],
   "source": [
    "number_list = [273, 103, 5, 32, 65, 9, 72, 800, 99]\n",
    "for number in number_list:\n",
    "    if number > 99:\n",
    "        print(\"- 100 이상의 수:\", number)"
   ]
  },
  {
   "cell_type": "code",
   "execution_count": 64,
   "metadata": {},
   "outputs": [
    {
     "name": "stdout",
     "output_type": "stream",
     "text": [
      "273는 홀수입니다\n",
      "103는 홀수입니다\n",
      "5는 홀수입니다\n",
      "32는 짝수입니다\n",
      "65는 홀수입니다\n",
      "9는 홀수입니다\n",
      "72는 짝수입니다\n",
      "800는 짝수입니다\n",
      "99는 홀수입니다\n"
     ]
    }
   ],
   "source": [
    "for number in number_list:\n",
    "    if number % 2 == 0:\n",
    "        print(\"{}는 짝수입니다\".format(number))\n",
    "    else:\n",
    "        print(\"{}는 홀수입니다\".format(number))"
   ]
  },
  {
   "cell_type": "code",
   "execution_count": 68,
   "metadata": {},
   "outputs": [
    {
     "name": "stdout",
     "output_type": "stream",
     "text": [
      "273는 3자리수 입니다\n",
      "103는 3자리수 입니다\n",
      "5는 1자리수 입니다\n",
      "32는 2자리수 입니다\n",
      "65는 2자리수 입니다\n",
      "9는 1자리수 입니다\n",
      "72는 2자리수 입니다\n",
      "800는 3자리수 입니다\n",
      "99는 2자리수 입니다\n"
     ]
    }
   ],
   "source": [
    "for number in number_list:\n",
    "    print(\"{}는 {}자리수 입니다\".format(number, len(str(number))))"
   ]
  },
  {
   "cell_type": "code",
   "execution_count": 66,
   "metadata": {},
   "outputs": [
    {
     "data": {
      "text/plain": [
       "'99'"
      ]
     },
     "execution_count": 66,
     "metadata": {},
     "output_type": "execute_result"
    }
   ],
   "source": [
    "str(number)"
   ]
  },
  {
   "cell_type": "code",
   "execution_count": 70,
   "metadata": {},
   "outputs": [
    {
     "name": "stdout",
     "output_type": "stream",
     "text": [
      "1\n",
      "2\n",
      "3\n",
      "4\n",
      "5\n",
      "6\n",
      "7\n",
      "8\n",
      "9\n"
     ]
    }
   ],
   "source": [
    "list_of_list = [[1, 2, 3], [4, 5, 6, 7], [8, 9]]\n",
    "\n",
    "for n in list_of_list:\n",
    "    for i in n:\n",
    "        print(i)\n",
    "    "
   ]
  },
  {
   "cell_type": "code",
   "execution_count": 73,
   "metadata": {},
   "outputs": [
    {
     "name": "stdout",
     "output_type": "stream",
     "text": [
      "[[1, 4, 7], [2, 5, 8], [3, 6, 9]]\n"
     ]
    }
   ],
   "source": [
    "number1 = [1, 2, 3, 4, 5, 6, 7, 8, 9]\n",
    "output = [[], [], []]\n",
    "\n",
    "for number in number1:\n",
    "    output[(number + 2) % 3].append(number)\n",
    "    \n",
    "print(output)"
   ]
  },
  {
   "cell_type": "code",
   "execution_count": 76,
   "metadata": {},
   "outputs": [
    {
     "name": "stdout",
     "output_type": "stream",
     "text": [
      "name : 기사\n",
      "level : 12\n",
      "sword : 불꽃의 검\n",
      "armor : 풀플레이트\n",
      "skill : 베기\n",
      "skill : 세게 베기\n",
      "skill : 아주 세게 베기\n"
     ]
    }
   ],
   "source": [
    "character = {\n",
    "    \"name\": \"기사\",\n",
    "    \"level\": 12,\n",
    "    \"items\": {\n",
    "        \"sword\": \"불꽃의 검\",\n",
    "        \"armor\": \"풀플레이트\"\n",
    "    },\n",
    "    \"skill\": [\"베기\", \"세게 베기\", \"아주 세게 베기\"]\n",
    "}\n",
    "for key in character:\n",
    "    if type(character[key]) is dict:\n",
    "        for i in character[key]:\n",
    "            print(\"{} : {}\".format(i, character[key][i]))\n",
    "    elif type(character[key]) is list:\n",
    "        for s in character[key]:\n",
    "            print(\"{} : {}\".format(key, s))\n",
    "    else:\n",
    "        print(\"{} : {}\".format(key, character[key]))"
   ]
  },
  {
   "cell_type": "code",
   "execution_count": 153,
   "metadata": {},
   "outputs": [
    {
     "name": "stdout",
     "output_type": "stream",
     "text": [
      "{'name': '기사', 'hp': 200, 'mp': 30, 'level': 5}\n"
     ]
    }
   ],
   "source": [
    "key_list = [\"name\", \"hp\", \"mp\", \"level\"]\n",
    "value_list = [\"기사\", 200, 30, 5]\n",
    "character = {}\n",
    "list(range(len(key_list)))\n",
    "for n in range(len(key_list)):\n",
    "    character[key_list[n]] = value_list[n]\n",
    "    #character[key_list[0]] = value_list[0]\n",
    "print(character)"
   ]
  },
  {
   "cell_type": "code",
   "execution_count": 79,
   "metadata": {},
   "outputs": [
    {
     "data": {
      "text/plain": [
       "[0, 1, 2, 3]"
      ]
     },
     "execution_count": 79,
     "metadata": {},
     "output_type": "execute_result"
    }
   ],
   "source": [
    "list(range(len(key_list)))"
   ]
  },
  {
   "cell_type": "code",
   "execution_count": 109,
   "metadata": {},
   "outputs": [
    {
     "name": "stdout",
     "output_type": "stream",
     "text": [
      "141\n",
      "10011\n",
      "141를 더할 때 10000을 넘으며 그때의 값은 10011입니다.\n"
     ]
    }
   ],
   "source": [
    "limit = 10000\n",
    "i = 1\n",
    "sum_value = 0\n",
    "while True:\n",
    "    #print(\"sum_value에 i추가\")\n",
    "    sum_value = sum_value + i\n",
    "   # print(\"i 추가 후 sum_value=\", sum_value)\n",
    "    #i = i + 1\n",
    "    if sum_value > limit:\n",
    "        break\n",
    "    i = i + 1\n",
    "print(i)\n",
    "print(sum_value)\n",
    "print(\"{}를 더할 때 {}을 넘으며 그때의 값은 {}입니다.\".format(i, limit, sum_value))"
   ]
  },
  {
   "cell_type": "code",
   "execution_count": 150,
   "metadata": {},
   "outputs": [
    {
     "name": "stdout",
     "output_type": "stream",
     "text": [
      "50 50 2500\n",
      "최대가 되는 경우: 50 * 50 = 2500\n"
     ]
    }
   ],
   "source": [
    "max_value = 0\n",
    "a = 0\n",
    "b = 0\n",
    "\n",
    "for i in range(51):\n",
    "    j = 100 - i\n",
    "    result = i * j\n",
    "    \n",
    "    if max_value < result:\n",
    "        max_value = result\n",
    "        a = i\n",
    "        b = j\n",
    "print(a , b , max_value)\n",
    "print(\"최대가 되는 경우: {} * {} = {}\".format(a, b, max_value))\n",
    "   "
   ]
  },
  {
   "cell_type": "code",
   "execution_count": 115,
   "metadata": {},
   "outputs": [
    {
     "data": {
      "text/plain": [
       "[1,\n",
       " 2,\n",
       " 3,\n",
       " 4,\n",
       " 5,\n",
       " 6,\n",
       " 7,\n",
       " 8,\n",
       " 9,\n",
       " 10,\n",
       " 11,\n",
       " 12,\n",
       " 13,\n",
       " 14,\n",
       " 15,\n",
       " 16,\n",
       " 17,\n",
       " 18,\n",
       " 19,\n",
       " 20,\n",
       " 21,\n",
       " 22,\n",
       " 23,\n",
       " 24,\n",
       " 25,\n",
       " 26,\n",
       " 27,\n",
       " 28,\n",
       " 29,\n",
       " 30,\n",
       " 31,\n",
       " 32,\n",
       " 33,\n",
       " 34,\n",
       " 35,\n",
       " 36,\n",
       " 37,\n",
       " 38,\n",
       " 39,\n",
       " 40,\n",
       " 41,\n",
       " 42,\n",
       " 43,\n",
       " 44,\n",
       " 45,\n",
       " 46,\n",
       " 47,\n",
       " 48,\n",
       " 49,\n",
       " 50,\n",
       " 51,\n",
       " 52,\n",
       " 53,\n",
       " 54,\n",
       " 55,\n",
       " 56,\n",
       " 57,\n",
       " 58,\n",
       " 59,\n",
       " 60,\n",
       " 61,\n",
       " 62,\n",
       " 63,\n",
       " 64,\n",
       " 65,\n",
       " 66,\n",
       " 67,\n",
       " 68,\n",
       " 69,\n",
       " 70,\n",
       " 71,\n",
       " 72,\n",
       " 73,\n",
       " 74,\n",
       " 75,\n",
       " 76,\n",
       " 77,\n",
       " 78,\n",
       " 79,\n",
       " 80,\n",
       " 81,\n",
       " 82,\n",
       " 83,\n",
       " 84,\n",
       " 85,\n",
       " 86,\n",
       " 87,\n",
       " 88,\n",
       " 89,\n",
       " 90,\n",
       " 91,\n",
       " 92,\n",
       " 93,\n",
       " 94,\n",
       " 95,\n",
       " 96,\n",
       " 97,\n",
       " 98,\n",
       " 99]"
      ]
     },
     "execution_count": 115,
     "metadata": {},
     "output_type": "execute_result"
    }
   ],
   "source": [
    "list(range(1, 100))"
   ]
  },
  {
   "cell_type": "code",
   "execution_count": 152,
   "metadata": {},
   "outputs": [
    {
     "name": "stdout",
     "output_type": "stream",
     "text": [
      "50 50 2500\n"
     ]
    }
   ],
   "source": [
    "max_value = 0\n",
    "a = 0\n",
    "b = 0\n",
    "\n",
    "for i in range(51):\n",
    "    j = 100 - i\n",
    "    result = i * j\n",
    "    if max_value < result:\n",
    "        max_value = result\n",
    "        a = i\n",
    "        b = j\n",
    "print(a, b, max_value)"
   ]
  },
  {
   "cell_type": "code",
   "execution_count": 1,
   "metadata": {},
   "outputs": [
    {
     "name": "stdout",
     "output_type": "stream",
     "text": [
      "1 99 99\n",
      "2 98 196\n",
      "3 97 291\n",
      "4 96 384\n",
      "5 95 475\n",
      "6 94 564\n",
      "7 93 651\n",
      "8 92 736\n",
      "9 91 819\n",
      "10 90 900\n",
      "11 89 979\n",
      "12 88 1056\n",
      "13 87 1131\n",
      "14 86 1204\n",
      "15 85 1275\n",
      "16 84 1344\n",
      "17 83 1411\n",
      "18 82 1476\n",
      "19 81 1539\n",
      "20 80 1600\n",
      "21 79 1659\n",
      "22 78 1716\n",
      "23 77 1771\n",
      "24 76 1824\n",
      "25 75 1875\n",
      "26 74 1924\n",
      "27 73 1971\n",
      "28 72 2016\n",
      "29 71 2059\n",
      "30 70 2100\n",
      "31 69 2139\n",
      "32 68 2176\n",
      "33 67 2211\n",
      "34 66 2244\n",
      "35 65 2275\n",
      "36 64 2304\n",
      "37 63 2331\n",
      "38 62 2356\n",
      "39 61 2379\n",
      "40 60 2400\n",
      "41 59 2419\n",
      "42 58 2436\n",
      "43 57 2451\n",
      "44 56 2464\n",
      "45 55 2475\n",
      "46 54 2484\n",
      "47 53 2491\n",
      "48 52 2496\n",
      "49 51 2499\n",
      "50 50 2500\n"
     ]
    }
   ],
   "source": [
    "max_value = 0\n",
    "a = 0\n",
    "b = 0\n",
    "for i in range(1, 51):\n",
    "    j = 100 - i\n",
    "    result = i * j\n",
    "    if max_value < result:\n",
    "        max_value = result\n",
    "        a = i\n",
    "        b = j\n",
    "        \n",
    "    print(a, b, max_value)"
   ]
  },
  {
   "cell_type": "code",
   "execution_count": null,
   "metadata": {},
   "outputs": [],
   "source": []
  }
 ],
 "metadata": {
  "kernelspec": {
   "display_name": "Python 3",
   "language": "python",
   "name": "python3"
  },
  "language_info": {
   "codemirror_mode": {
    "name": "ipython",
    "version": 3
   },
   "file_extension": ".py",
   "mimetype": "text/x-python",
   "name": "python",
   "nbconvert_exporter": "python",
   "pygments_lexer": "ipython3",
   "version": "3.7.4"
  }
 },
 "nbformat": 4,
 "nbformat_minor": 2
}
