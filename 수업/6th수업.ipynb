{
 "cells": [
  {
   "cell_type": "code",
   "execution_count": 1,
   "metadata": {},
   "outputs": [],
   "source": [
    "movies =[\"기생충\", \"마더\", \"살인의 추억\"]"
   ]
  },
  {
   "cell_type": "code",
   "execution_count": 2,
   "metadata": {},
   "outputs": [
    {
     "data": {
      "text/plain": [
       "['기생충', '마더', '살인의 추억']"
      ]
     },
     "execution_count": 2,
     "metadata": {},
     "output_type": "execute_result"
    }
   ],
   "source": [
    "movies"
   ]
  },
  {
   "cell_type": "code",
   "execution_count": 3,
   "metadata": {},
   "outputs": [
    {
     "name": "stdout",
     "output_type": "stream",
     "text": [
      "살인의 추억\n"
     ]
    }
   ],
   "source": [
    "print(movies[2])"
   ]
  },
  {
   "cell_type": "code",
   "execution_count": 4,
   "metadata": {},
   "outputs": [
    {
     "data": {
      "text/plain": [
       "3"
      ]
     },
     "execution_count": 4,
     "metadata": {},
     "output_type": "execute_result"
    }
   ],
   "source": [
    "len(movies)"
   ]
  },
  {
   "cell_type": "code",
   "execution_count": 5,
   "metadata": {},
   "outputs": [],
   "source": [
    "movies.append(\"옥자\")"
   ]
  },
  {
   "cell_type": "code",
   "execution_count": 6,
   "metadata": {},
   "outputs": [
    {
     "data": {
      "text/plain": [
       "['기생충', '마더', '살인의 추억', '옥자']"
      ]
     },
     "execution_count": 6,
     "metadata": {},
     "output_type": "execute_result"
    }
   ],
   "source": [
    "movies"
   ]
  },
  {
   "cell_type": "code",
   "execution_count": 7,
   "metadata": {},
   "outputs": [
    {
     "data": {
      "text/plain": [
       "'옥자'"
      ]
     },
     "execution_count": 7,
     "metadata": {},
     "output_type": "execute_result"
    }
   ],
   "source": [
    "movies.pop()"
   ]
  },
  {
   "cell_type": "code",
   "execution_count": 8,
   "metadata": {},
   "outputs": [
    {
     "data": {
      "text/plain": [
       "['기생충', '마더', '살인의 추억']"
      ]
     },
     "execution_count": 8,
     "metadata": {},
     "output_type": "execute_result"
    }
   ],
   "source": [
    "movies"
   ]
  },
  {
   "cell_type": "code",
   "execution_count": 9,
   "metadata": {},
   "outputs": [
    {
     "ename": "NameError",
     "evalue": "name 'moves' is not defined",
     "output_type": "error",
     "traceback": [
      "\u001b[1;31m---------------------------------------------------------------------------\u001b[0m",
      "\u001b[1;31mNameError\u001b[0m                                 Traceback (most recent call last)",
      "\u001b[1;32m<ipython-input-9-2d3fd8771df0>\u001b[0m in \u001b[0;36m<module>\u001b[1;34m\u001b[0m\n\u001b[1;32m----> 1\u001b[1;33m \u001b[1;32mfor\u001b[0m \u001b[0meach_flick\u001b[0m \u001b[1;32min\u001b[0m \u001b[0mmoves\u001b[0m\u001b[1;33m:\u001b[0m\u001b[1;33m\u001b[0m\u001b[1;33m\u001b[0m\u001b[0m\n\u001b[0m\u001b[0;32m      2\u001b[0m     \u001b[0mprint\u001b[0m\u001b[1;33m(\u001b[0m\u001b[1;34m\"each_flick\"\u001b[0m\u001b[1;33m,\u001b[0m \u001b[0meach_flick\u001b[0m\u001b[1;33m)\u001b[0m\u001b[1;33m\u001b[0m\u001b[1;33m\u001b[0m\u001b[0m\n",
      "\u001b[1;31mNameError\u001b[0m: name 'moves' is not defined"
     ]
    }
   ],
   "source": [
    "for each_flick in moves:\n",
    "    print(\"each_flick\", each_flick)"
   ]
  },
  {
   "cell_type": "code",
   "execution_count": 10,
   "metadata": {},
   "outputs": [
    {
     "data": {
      "text/plain": [
       "True"
      ]
     },
     "execution_count": 10,
     "metadata": {},
     "output_type": "execute_result"
    }
   ],
   "source": [
    "isinstance(movies, list)"
   ]
  },
  {
   "cell_type": "code",
   "execution_count": 11,
   "metadata": {},
   "outputs": [
    {
     "data": {
      "text/plain": [
       "False"
      ]
     },
     "execution_count": 11,
     "metadata": {},
     "output_type": "execute_result"
    }
   ],
   "source": [
    "isinstance(\"안녕\", list)"
   ]
  },
  {
   "cell_type": "code",
   "execution_count": 15,
   "metadata": {},
   "outputs": [
    {
     "name": "stdout",
     "output_type": "stream",
     "text": [
      "each_item: 기생충\n",
      "isinstance(each_item, list): False\n",
      "each_item: 마더\n",
      "isinstance(each_item, list): False\n",
      "each_item: 살인의 추억\n",
      "isinstance(each_item, list): False\n"
     ]
    }
   ],
   "source": [
    "for each_item in movies:\n",
    "    print(\"each_item:\", each_item)\n",
    "    print(\"isinstance(each_item, list):\", isinstance(each_item, list))\n",
    "    if isinstance(each_item, list):\n",
    "        for nested_item in each_item:\n",
    "            print(\"nested_item:\", nested_item)"
   ]
  },
  {
   "cell_type": "code",
   "execution_count": 16,
   "metadata": {},
   "outputs": [],
   "source": [
    "movies = [\"The Holy Grail\", \"The Life of Brian\", \"The Meaning of Life\"]\n",
    "cast = [\"Cleese\", \"Palin\", \"Jones\", \"Idle\"]"
   ]
  },
  {
   "cell_type": "code",
   "execution_count": 17,
   "metadata": {},
   "outputs": [],
   "source": [
    "cast.extend([\"Gilliam\", \"Chapman\"])"
   ]
  },
  {
   "cell_type": "code",
   "execution_count": 18,
   "metadata": {},
   "outputs": [],
   "source": [
    "cast.remove(\"Chapman\")"
   ]
  },
  {
   "cell_type": "code",
   "execution_count": 19,
   "metadata": {},
   "outputs": [],
   "source": [
    "cast.insert(0, \"Chapman\")"
   ]
  },
  {
   "cell_type": "code",
   "execution_count": 20,
   "metadata": {},
   "outputs": [
    {
     "name": "stdout",
     "output_type": "stream",
     "text": [
      "['Chapman', 'Cleese', 'Palin', 'Jones', 'Idle', 'Gilliam']\n"
     ]
    }
   ],
   "source": [
    "print(cast)"
   ]
  },
  {
   "cell_type": "code",
   "execution_count": 22,
   "metadata": {},
   "outputs": [],
   "source": [
    "movies.insert(1, 1975)"
   ]
  },
  {
   "cell_type": "code",
   "execution_count": 23,
   "metadata": {},
   "outputs": [],
   "source": [
    "movies.insert(3, 1979)"
   ]
  },
  {
   "cell_type": "code",
   "execution_count": 24,
   "metadata": {},
   "outputs": [],
   "source": [
    "movies.append(1983)"
   ]
  },
  {
   "cell_type": "code",
   "execution_count": 25,
   "metadata": {},
   "outputs": [
    {
     "name": "stdout",
     "output_type": "stream",
     "text": [
      "['The Holy Grail', 1975, 1975, 1979, 'The Life of Brian', 1979, 'The Meaning of Life', 1983]\n"
     ]
    }
   ],
   "source": [
    "print(movies)"
   ]
  },
  {
   "cell_type": "code",
   "execution_count": 26,
   "metadata": {},
   "outputs": [],
   "source": [
    "movies.remove(1975)"
   ]
  },
  {
   "cell_type": "code",
   "execution_count": 27,
   "metadata": {},
   "outputs": [],
   "source": [
    "movies.remove(1979)"
   ]
  },
  {
   "cell_type": "code",
   "execution_count": 28,
   "metadata": {},
   "outputs": [
    {
     "name": "stdout",
     "output_type": "stream",
     "text": [
      "['The Holy Grail', 1975, 'The Life of Brian', 1979, 'The Meaning of Life', 1983]\n"
     ]
    }
   ],
   "source": [
    "print(movies)"
   ]
  },
  {
   "cell_type": "code",
   "execution_count": 29,
   "metadata": {},
   "outputs": [],
   "source": [
    "fav_movies = [\"The Holy Grail\", \"The Life of Brian\"]"
   ]
  },
  {
   "cell_type": "code",
   "execution_count": 30,
   "metadata": {},
   "outputs": [
    {
     "name": "stdout",
     "output_type": "stream",
     "text": [
      "The Holy Grail\n",
      "The Life of Brian\n"
     ]
    }
   ],
   "source": [
    "for each_flick in fav_movies:\n",
    "    print(each_flick)"
   ]
  },
  {
   "cell_type": "code",
   "execution_count": 31,
   "metadata": {},
   "outputs": [],
   "source": [
    "movies = [\"The Holy Grail\", 1975, \"Terry Hones & Terry Gilliam\", 91, [\"Graham Chapman\", [\"Michael Palin\", \"John Cleese\", \"Terry Gilliam\", \"Eric Idle\", \"Therry Jones\"]]]\n"
   ]
  },
  {
   "cell_type": "code",
   "execution_count": 32,
   "metadata": {},
   "outputs": [
    {
     "name": "stdout",
     "output_type": "stream",
     "text": [
      "The Holy Grail\n",
      "1975\n",
      "Terry Hones & Terry Gilliam\n",
      "91\n",
      "['Graham Chapman', ['Michael Palin', 'John Cleese', 'Terry Gilliam', 'Eric Idle', 'Therry Jones']]\n"
     ]
    }
   ],
   "source": [
    "for each_item in movies:\n",
    "    print(each_item)"
   ]
  },
  {
   "cell_type": "code",
   "execution_count": 34,
   "metadata": {},
   "outputs": [
    {
     "name": "stdout",
     "output_type": "stream",
     "text": [
      "The Holy Grail\n",
      "1975\n",
      "Terry Hones & Terry Gilliam\n",
      "91\n",
      "Graham Chapman\n",
      "['Michael Palin', 'John Cleese', 'Terry Gilliam', 'Eric Idle', 'Therry Jones']\n"
     ]
    }
   ],
   "source": [
    "for each_item in movies:\n",
    "    if isinstance(each_item, list):\n",
    "        for nested_item in each_item:\n",
    "            print(nested_item)\n",
    "    else:\n",
    "        print(each_item)"
   ]
  },
  {
   "cell_type": "code",
   "execution_count": 35,
   "metadata": {},
   "outputs": [
    {
     "name": "stdout",
     "output_type": "stream",
     "text": [
      "The Holy Grail\n",
      "1975\n",
      "Terry Hones & Terry Gilliam\n",
      "91\n",
      "Graham Chapman\n",
      "Michael Palin\n",
      "John Cleese\n",
      "Terry Gilliam\n",
      "Eric Idle\n",
      "Therry Jones\n"
     ]
    }
   ],
   "source": [
    "for each_item in movies:\n",
    "    if isinstance(each_item, list):\n",
    "        for nested_item in each_item:\n",
    "            if isinstance(nested_item, list):\n",
    "                for deeper_item in nested_item:\n",
    "                    print(deeper_item)\n",
    "            else:\n",
    "                print(nested_item)\n",
    "    else:\n",
    "        print(each_item)"
   ]
  },
  {
   "cell_type": "code",
   "execution_count": 37,
   "metadata": {},
   "outputs": [
    {
     "name": "stdout",
     "output_type": "stream",
     "text": [
      "i = 1\n",
      "output =  1\n",
      "==============================\n",
      "i = 2\n",
      "output =  2\n",
      "==============================\n",
      "i = 3\n",
      "output =  6\n",
      "==============================\n",
      "i = 4\n",
      "output =  24\n",
      "==============================\n",
      "i = 5\n",
      "output =  120\n",
      "==============================\n"
     ]
    }
   ],
   "source": [
    "n = 5\n",
    "output = 1\n",
    "for i in range(1, n + 1):\n",
    "    print(\"i =\", i)\n",
    "    output = output * i\n",
    "    print(\"output = \", output)\n",
    "    print(\"=\" * 30)"
   ]
  },
  {
   "cell_type": "code",
   "execution_count": 39,
   "metadata": {},
   "outputs": [],
   "source": [
    "def factorial(n):\n",
    "    output = 1\n",
    "    for i in range(1, n + 1):\n",
    "        output = output * i\n",
    "        print(\"output * i =\", output)\n",
    "    return output"
   ]
  },
  {
   "cell_type": "code",
   "execution_count": 40,
   "metadata": {},
   "outputs": [
    {
     "name": "stdout",
     "output_type": "stream",
     "text": [
      "output * i = 1\n",
      "output * i = 2\n",
      "output * i = 6\n",
      "output * i = 24\n",
      "output * i = 120\n"
     ]
    },
    {
     "data": {
      "text/plain": [
       "120"
      ]
     },
     "execution_count": 40,
     "metadata": {},
     "output_type": "execute_result"
    }
   ],
   "source": [
    "factorial(5)"
   ]
  },
  {
   "cell_type": "code",
   "execution_count": 41,
   "metadata": {},
   "outputs": [],
   "source": [
    "def factorial(n):\n",
    "    print(\"factorial({}) 시작\".format(n))\n",
    "    if n == 1:\n",
    "        print(\"factorial 함수 그만 호출, 1 리턴\")\n",
    "        return 1\n",
    "    else:\n",
    "        print(\"factorial({} - 1) 호출\".format(n))\n",
    "        output = factorial(n-1) * n\n",
    "        print(\"output =\", output)\n",
    "        return output"
   ]
  },
  {
   "cell_type": "code",
   "execution_count": 42,
   "metadata": {},
   "outputs": [
    {
     "name": "stdout",
     "output_type": "stream",
     "text": [
      "factorial(5) 시작\n",
      "factorial(5 - 1) 호출\n",
      "factorial(4) 시작\n",
      "factorial(4 - 1) 호출\n",
      "factorial(3) 시작\n",
      "factorial(3 - 1) 호출\n",
      "factorial(2) 시작\n",
      "factorial(2 - 1) 호출\n",
      "factorial(1) 시작\n",
      "factorial 함수 그만 호출, 1 리턴\n",
      "output = 2\n",
      "output = 6\n",
      "output = 24\n",
      "output = 120\n"
     ]
    },
    {
     "data": {
      "text/plain": [
       "120"
      ]
     },
     "execution_count": 42,
     "metadata": {},
     "output_type": "execute_result"
    }
   ],
   "source": [
    "factorial(5)"
   ]
  },
  {
   "cell_type": "code",
   "execution_count": 43,
   "metadata": {},
   "outputs": [],
   "source": [
    "#피보나치 수열\n",
    "#1번째 달 > 토끼 1쌍\n",
    "#2번째 달 > 토끼 1쌍\n",
    "#3번째 달 > 토끼 1쌍, 자식 -1 1쌍(4마리)\n",
    "#4번째 달> 부모1쌍 자식 1-1쌍, 자식 1쌍\n",
    "#5번째 달 > 부모1쌍 자식 1-1쌍, 손자1쌍 자식1쌍 새로운 자식 1쌍\n"
   ]
  },
  {
   "cell_type": "code",
   "execution_count": 51,
   "metadata": {},
   "outputs": [],
   "source": [
    "counter = 0\n",
    "def fibonacci(n):\n",
    "    print(\"fibonacci({}) 시작\".format(n))\n",
    "    counter = 100\n",
    "    print(\"counter =\", counter)\n",
    "    if n < 3:\n",
    "        print(\"n이 3미만이라서 1\")\n",
    "        print(\"fibonacci({}) 끝\".format(n))\n",
    "        return 1\n",
    "    else:\n",
    "        output = fibonacci(n-1) + fibonacci(n-2)\n",
    "        print(\"output = {} 리턴\".format(n))\n",
    "        print(\"fibonacci({}) 끝\".format(n))\n",
    "        return output"
   ]
  },
  {
   "cell_type": "code",
   "execution_count": 52,
   "metadata": {},
   "outputs": [
    {
     "name": "stdout",
     "output_type": "stream",
     "text": [
      "fibonacci(3) 시작\n",
      "counter = 100\n",
      "fibonacci(2) 시작\n",
      "counter = 100\n",
      "n이 3미만이라서 1\n",
      "fibonacci(2) 끝\n",
      "fibonacci(1) 시작\n",
      "counter = 100\n",
      "n이 3미만이라서 1\n",
      "fibonacci(1) 끝\n",
      "output = 3 리턴\n",
      "fibonacci(3) 끝\n"
     ]
    },
    {
     "data": {
      "text/plain": [
       "2"
      ]
     },
     "execution_count": 52,
     "metadata": {},
     "output_type": "execute_result"
    }
   ],
   "source": [
    "fibonacci(3)"
   ]
  },
  {
   "cell_type": "code",
   "execution_count": 53,
   "metadata": {},
   "outputs": [
    {
     "data": {
      "text/plain": [
       "0"
      ]
     },
     "execution_count": 53,
     "metadata": {},
     "output_type": "execute_result"
    }
   ],
   "source": [
    "counter"
   ]
  },
  {
   "cell_type": "code",
   "execution_count": 54,
   "metadata": {},
   "outputs": [],
   "source": [
    "counter = 0\n",
    "def fibonacci(n):\n",
    "    print(\"fibonacci({}) 시작\".format(n))\n",
    "    global counter\n",
    "    counter = 100\n",
    "    print(\"counter =\", counter)\n",
    "    if n < 3:\n",
    "        print(\"n이 3미만이라서 1\")\n",
    "        print(\"fibonacci({}) 끝\".format(n))\n",
    "        return 1\n",
    "    else:\n",
    "        output = fibonacci(n-1) + fibonacci(n-2)\n",
    "        print(\"output = {} 리턴\".format(n))\n",
    "        print(\"fibonacci({}) 끝\".format(n))\n",
    "        return output"
   ]
  },
  {
   "cell_type": "code",
   "execution_count": 55,
   "metadata": {},
   "outputs": [
    {
     "name": "stdout",
     "output_type": "stream",
     "text": [
      "fibonacci(5) 시작\n",
      "counter = 100\n",
      "fibonacci(4) 시작\n",
      "counter = 100\n",
      "fibonacci(3) 시작\n",
      "counter = 100\n",
      "fibonacci(2) 시작\n",
      "counter = 100\n",
      "n이 3미만이라서 1\n",
      "fibonacci(2) 끝\n",
      "fibonacci(1) 시작\n",
      "counter = 100\n",
      "n이 3미만이라서 1\n",
      "fibonacci(1) 끝\n",
      "output = 3 리턴\n",
      "fibonacci(3) 끝\n",
      "fibonacci(2) 시작\n",
      "counter = 100\n",
      "n이 3미만이라서 1\n",
      "fibonacci(2) 끝\n",
      "output = 4 리턴\n",
      "fibonacci(4) 끝\n",
      "fibonacci(3) 시작\n",
      "counter = 100\n",
      "fibonacci(2) 시작\n",
      "counter = 100\n",
      "n이 3미만이라서 1\n",
      "fibonacci(2) 끝\n",
      "fibonacci(1) 시작\n",
      "counter = 100\n",
      "n이 3미만이라서 1\n",
      "fibonacci(1) 끝\n",
      "output = 3 리턴\n",
      "fibonacci(3) 끝\n",
      "output = 5 리턴\n",
      "fibonacci(5) 끝\n"
     ]
    },
    {
     "data": {
      "text/plain": [
       "5"
      ]
     },
     "execution_count": 55,
     "metadata": {},
     "output_type": "execute_result"
    }
   ],
   "source": [
    "fibonacci(5)"
   ]
  },
  {
   "cell_type": "code",
   "execution_count": 56,
   "metadata": {},
   "outputs": [
    {
     "data": {
      "text/plain": [
       "100"
      ]
     },
     "execution_count": 56,
     "metadata": {},
     "output_type": "execute_result"
    }
   ],
   "source": [
    "counter"
   ]
  },
  {
   "cell_type": "code",
   "execution_count": 67,
   "metadata": {},
   "outputs": [],
   "source": [
    "counter = 0\n",
    "def fibonacci(n):\n",
    "    print(\"fibonacci({}) 시작\".format(n))\n",
    "    global counter\n",
    "    counter = counter + 1\n",
    "    print(\"counter =\", counter)\n",
    "    if n < 3:\n",
    "        print(\"n이 3미만이라서 1\")\n",
    "        print(\"fibonacci({}) 끝\".format(n))\n",
    "        return 1\n",
    "    else:\n",
    "        output = fibonacci(n-1) + fibonacci(n-2)\n",
    "        print(\"output = {} 리턴\".format(n))\n",
    "        print(\"fibonacci({}) 끝\".format(n))\n",
    "        return output\n",
    "# +=, *=, /=, -= 연산자는 하기전에 변수에 값이 꼭 저장되 있어야한다."
   ]
  },
  {
   "cell_type": "code",
   "execution_count": 68,
   "metadata": {},
   "outputs": [
    {
     "name": "stdout",
     "output_type": "stream",
     "text": [
      "fibonacci(5) 시작\n",
      "counter = 1\n",
      "fibonacci(4) 시작\n",
      "counter = 2\n",
      "fibonacci(3) 시작\n",
      "counter = 3\n",
      "fibonacci(2) 시작\n",
      "counter = 4\n",
      "n이 3미만이라서 1\n",
      "fibonacci(2) 끝\n",
      "fibonacci(1) 시작\n",
      "counter = 5\n",
      "n이 3미만이라서 1\n",
      "fibonacci(1) 끝\n",
      "output = 3 리턴\n",
      "fibonacci(3) 끝\n",
      "fibonacci(2) 시작\n",
      "counter = 6\n",
      "n이 3미만이라서 1\n",
      "fibonacci(2) 끝\n",
      "output = 4 리턴\n",
      "fibonacci(4) 끝\n",
      "fibonacci(3) 시작\n",
      "counter = 7\n",
      "fibonacci(2) 시작\n",
      "counter = 8\n",
      "n이 3미만이라서 1\n",
      "fibonacci(2) 끝\n",
      "fibonacci(1) 시작\n",
      "counter = 9\n",
      "n이 3미만이라서 1\n",
      "fibonacci(1) 끝\n",
      "output = 3 리턴\n",
      "fibonacci(3) 끝\n",
      "output = 5 리턴\n",
      "fibonacci(5) 끝\n"
     ]
    },
    {
     "data": {
      "text/plain": [
       "5"
      ]
     },
     "execution_count": 68,
     "metadata": {},
     "output_type": "execute_result"
    }
   ],
   "source": [
    "fibonacci(5)"
   ]
  },
  {
   "cell_type": "code",
   "execution_count": 64,
   "metadata": {},
   "outputs": [
    {
     "data": {
      "text/plain": [
       "9"
      ]
     },
     "execution_count": 64,
     "metadata": {},
     "output_type": "execute_result"
    }
   ],
   "source": [
    "counter"
   ]
  },
  {
   "cell_type": "code",
   "execution_count": 69,
   "metadata": {},
   "outputs": [],
   "source": [
    "dictionary = {1: 100, 2: 200}"
   ]
  },
  {
   "cell_type": "code",
   "execution_count": 70,
   "metadata": {},
   "outputs": [
    {
     "data": {
      "text/plain": [
       "100"
      ]
     },
     "execution_count": 70,
     "metadata": {},
     "output_type": "execute_result"
    }
   ],
   "source": [
    "dictionary[1]"
   ]
  },
  {
   "cell_type": "code",
   "execution_count": 71,
   "metadata": {},
   "outputs": [
    {
     "data": {
      "text/plain": [
       "200"
      ]
     },
     "execution_count": 71,
     "metadata": {},
     "output_type": "execute_result"
    }
   ],
   "source": [
    "dictionary[2]"
   ]
  },
  {
   "cell_type": "code",
   "execution_count": 72,
   "metadata": {},
   "outputs": [
    {
     "data": {
      "text/plain": [
       "True"
      ]
     },
     "execution_count": 72,
     "metadata": {},
     "output_type": "execute_result"
    }
   ],
   "source": [
    "1 in dictionary"
   ]
  },
  {
   "cell_type": "code",
   "execution_count": 73,
   "metadata": {},
   "outputs": [
    {
     "data": {
      "text/plain": [
       "True"
      ]
     },
     "execution_count": 73,
     "metadata": {},
     "output_type": "execute_result"
    }
   ],
   "source": [
    "2 in dictionary"
   ]
  },
  {
   "cell_type": "code",
   "execution_count": 74,
   "metadata": {},
   "outputs": [
    {
     "data": {
      "text/plain": [
       "False"
      ]
     },
     "execution_count": 74,
     "metadata": {},
     "output_type": "execute_result"
    }
   ],
   "source": [
    "3 in dictionary"
   ]
  },
  {
   "cell_type": "code",
   "execution_count": 75,
   "metadata": {},
   "outputs": [
    {
     "data": {
      "text/plain": [
       "False"
      ]
     },
     "execution_count": 75,
     "metadata": {},
     "output_type": "execute_result"
    }
   ],
   "source": [
    "100 in dictionary"
   ]
  },
  {
   "cell_type": "code",
   "execution_count": 78,
   "metadata": {},
   "outputs": [],
   "source": [
    "dicttionary = {1: 1, 2: 1}\n",
    "counter = 0\n",
    "def fibonacci(n):\n",
    "    print(\"fibonacci({}) 시작\".format(n))\n",
    "    global counter\n",
    "    counter = counter + 1\n",
    "    print(\"counter =\", counter)\n",
    "    #if n < 3:\n",
    "    #    print(\"n이 3미만이라서 1\")\n",
    "     #   print(\"fibonacci({}) 끝\".format(n))\n",
    "      #  return 1 (너무 느림)\n",
    "    if n in dictionary: #빠름\n",
    "        print(\"dictionary에 있어서 1 리턴\")\n",
    "        return 1\n",
    "    else:\n",
    "        output = fibonacci(n-1) + fibonacci(n-2)\n",
    "        print(\"output = {} 리턴\".format(n))\n",
    "        print(\"fibonacci({}) 끝\".format(n))\n",
    "        return output"
   ]
  },
  {
   "cell_type": "code",
   "execution_count": 79,
   "metadata": {},
   "outputs": [
    {
     "name": "stdout",
     "output_type": "stream",
     "text": [
      "fibonacci(5) 시작\n",
      "counter = 1\n",
      "fibonacci(4) 시작\n",
      "counter = 2\n",
      "fibonacci(3) 시작\n",
      "counter = 3\n",
      "fibonacci(2) 시작\n",
      "counter = 4\n",
      "dictionary에 있어서 1 리턴\n",
      "fibonacci(1) 시작\n",
      "counter = 5\n",
      "dictionary에 있어서 1 리턴\n",
      "output = 3 리턴\n",
      "fibonacci(3) 끝\n",
      "fibonacci(2) 시작\n",
      "counter = 6\n",
      "dictionary에 있어서 1 리턴\n",
      "output = 4 리턴\n",
      "fibonacci(4) 끝\n",
      "fibonacci(3) 시작\n",
      "counter = 7\n",
      "fibonacci(2) 시작\n",
      "counter = 8\n",
      "dictionary에 있어서 1 리턴\n",
      "fibonacci(1) 시작\n",
      "counter = 9\n",
      "dictionary에 있어서 1 리턴\n",
      "output = 3 리턴\n",
      "fibonacci(3) 끝\n",
      "output = 5 리턴\n",
      "fibonacci(5) 끝\n"
     ]
    },
    {
     "data": {
      "text/plain": [
       "5"
      ]
     },
     "execution_count": 79,
     "metadata": {},
     "output_type": "execute_result"
    }
   ],
   "source": [
    "fibonacci(5)"
   ]
  },
  {
   "cell_type": "code",
   "execution_count": 80,
   "metadata": {},
   "outputs": [
    {
     "data": {
      "text/plain": [
       "9"
      ]
     },
     "execution_count": 80,
     "metadata": {},
     "output_type": "execute_result"
    }
   ],
   "source": [
    "counter"
   ]
  },
  {
   "cell_type": "code",
   "execution_count": null,
   "metadata": {},
   "outputs": [],
   "source": []
  }
 ],
 "metadata": {
  "kernelspec": {
   "display_name": "Python 3",
   "language": "python",
   "name": "python3"
  },
  "language_info": {
   "codemirror_mode": {
    "name": "ipython",
    "version": 3
   },
   "file_extension": ".py",
   "mimetype": "text/x-python",
   "name": "python",
   "nbconvert_exporter": "python",
   "pygments_lexer": "ipython3",
   "version": "3.7.4"
  }
 },
 "nbformat": 4,
 "nbformat_minor": 2
}
