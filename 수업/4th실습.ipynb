{
 "cells": [
  {
   "cell_type": "code",
   "execution_count": 3,
   "metadata": {},
   "outputs": [
    {
     "name": "stdout",
     "output_type": "stream",
     "text": [
      "1 99 99\n",
      "2 98 196\n",
      "3 97 291\n",
      "4 96 384\n",
      "5 95 475\n",
      "6 94 564\n",
      "7 93 651\n",
      "8 92 736\n",
      "9 91 819\n",
      "10 90 900\n",
      "11 89 979\n",
      "12 88 1056\n",
      "13 87 1131\n",
      "14 86 1204\n",
      "15 85 1275\n",
      "16 84 1344\n",
      "17 83 1411\n",
      "18 82 1476\n",
      "19 81 1539\n",
      "20 80 1600\n",
      "21 79 1659\n",
      "22 78 1716\n",
      "23 77 1771\n",
      "24 76 1824\n",
      "25 75 1875\n",
      "26 74 1924\n",
      "27 73 1971\n",
      "28 72 2016\n",
      "29 71 2059\n",
      "30 70 2100\n",
      "31 69 2139\n",
      "32 68 2176\n",
      "33 67 2211\n",
      "34 66 2244\n",
      "35 65 2275\n",
      "36 64 2304\n",
      "37 63 2331\n",
      "38 62 2356\n",
      "39 61 2379\n",
      "40 60 2400\n",
      "41 59 2419\n",
      "42 58 2436\n",
      "43 57 2451\n",
      "44 56 2464\n",
      "45 55 2475\n",
      "46 54 2484\n",
      "47 53 2491\n",
      "48 52 2496\n",
      "49 51 2499\n",
      "50 50 2500\n",
      "51 49 2499\n",
      "52 48 2496\n",
      "53 47 2491\n",
      "54 46 2484\n",
      "55 45 2475\n",
      "56 44 2464\n",
      "57 43 2451\n",
      "58 42 2436\n",
      "59 41 2419\n",
      "60 40 2400\n",
      "61 39 2379\n",
      "62 38 2356\n",
      "63 37 2331\n",
      "64 36 2304\n",
      "65 35 2275\n",
      "66 34 2244\n",
      "67 33 2211\n",
      "68 32 2176\n",
      "69 31 2139\n",
      "70 30 2100\n",
      "71 29 2059\n",
      "72 28 2016\n",
      "73 27 1971\n",
      "74 26 1924\n",
      "75 25 1875\n",
      "76 24 1824\n",
      "77 23 1771\n",
      "78 22 1716\n",
      "79 21 1659\n",
      "80 20 1600\n",
      "81 19 1539\n",
      "82 18 1476\n",
      "83 17 1411\n",
      "84 16 1344\n",
      "85 15 1275\n",
      "86 14 1204\n",
      "87 13 1131\n",
      "88 12 1056\n",
      "89 11 979\n",
      "90 10 900\n",
      "91 9 819\n",
      "92 8 736\n",
      "93 7 651\n",
      "94 6 564\n",
      "95 5 475\n",
      "96 4 384\n",
      "97 3 291\n",
      "98 2 196\n",
      "99 1 99\n"
     ]
    }
   ],
   "source": [
    "for i in range(1, 100):\n",
    "    j = 100 - i\n",
    "    result = i * j\n",
    "    max_value = 0\n",
    "    if max_value < result:\n",
    "        max_value = result\n",
    "        a = i\n",
    "        b = j\n",
    "        print(i, j, max_value)"
   ]
  },
  {
   "cell_type": "code",
   "execution_count": 4,
   "metadata": {},
   "outputs": [
    {
     "name": "stdout",
     "output_type": "stream",
     "text": [
      "141 10011\n"
     ]
    }
   ],
   "source": [
    "limit = 10000\n",
    "i = 1\n",
    "sum_value = 0\n",
    "while True:\n",
    "    sum_value = sum_value + i\n",
    "    if sum_value > limit:\n",
    "        break\n",
    "    i = i + 1\n",
    "print(i, sum_value)"
   ]
  },
  {
   "cell_type": "code",
   "execution_count": 15,
   "metadata": {},
   "outputs": [
    {
     "name": "stdout",
     "output_type": "stream",
     "text": [
      "{'name': '기사', 'hp': 200, 'mp': 30, 'level': 5}\n"
     ]
    }
   ],
   "source": [
    "key_list = [\"name\", \"hp\", \"mp\", \"level\"]\n",
    "value_list = [\"기사\", 200, 30, 5]\n",
    "character = {}\n",
    "for n in range(len(key_list)):\n",
    "    character[key_list[n]] = value_list[n]\n",
    "    \n",
    "print(character)"
   ]
  },
  {
   "cell_type": "code",
   "execution_count": 17,
   "metadata": {},
   "outputs": [
    {
     "name": "stdout",
     "output_type": "stream",
     "text": [
      "안녕하세요\n",
      "하이\n",
      "방가\n",
      "ㅇㅇ\n",
      "\n",
      "안녕하세요\n",
      "하이\n",
      "방가\n",
      "ㅇㅇ\n",
      "\n",
      "안녕하세요\n",
      "하이\n",
      "방가\n",
      "ㅇㅇ\n",
      "\n"
     ]
    }
   ],
   "source": [
    "def print_time(n, *values):\n",
    "    for i in range(n):\n",
    "        for value in values:\n",
    "            print(value)\n",
    "        print()\n",
    "print_time(3, \"안녕하세요\", \"하이\", \"방가\", \"ㅇㅇ\")"
   ]
  },
  {
   "cell_type": "code",
   "execution_count": 19,
   "metadata": {},
   "outputs": [
    {
     "name": "stdout",
     "output_type": "stream",
     "text": [
      "안녕\n",
      "안녕\n"
     ]
    }
   ],
   "source": [
    "def print_times(value, n = 2):\n",
    "    for i in range(n):\n",
    "        print(value)\n",
    "print_times(\"안녕\")"
   ]
  },
  {
   "cell_type": "code",
   "execution_count": 20,
   "metadata": {},
   "outputs": [
    {
     "name": "stdout",
     "output_type": "stream",
     "text": [
      "안녕하세요\n",
      "ㅎ2\n",
      "하이\n",
      "\n",
      "안녕하세요\n",
      "ㅎ2\n",
      "하이\n",
      "\n",
      "안녕하세요\n",
      "ㅎ2\n",
      "하이\n",
      "\n"
     ]
    }
   ],
   "source": [
    "def print_times(*values, n = 2):\n",
    "    for i in range(n):\n",
    "        for value in values:\n",
    "            print(value)\n",
    "        print()\n",
    "print_times(\"안녕하세요\", \"ㅎ2\", \"하이\", n = 3)"
   ]
  },
  {
   "cell_type": "code",
   "execution_count": 21,
   "metadata": {},
   "outputs": [
    {
     "name": "stdout",
     "output_type": "stream",
     "text": [
      "60\n",
      "60\n",
      "60\n",
      "50\n"
     ]
    }
   ],
   "source": [
    "def test(a, b = 10, c = 100):\n",
    "    print(a + b + c)\n",
    "test(10, 20, 30)\n",
    "test(a = 10, b = 20, c = 30)\n",
    "test(c = 30, a = 10, b = 20)\n",
    "test(10, c = 30)"
   ]
  },
  {
   "cell_type": "code",
   "execution_count": 22,
   "metadata": {},
   "outputs": [
    {
     "name": "stdout",
     "output_type": "stream",
     "text": [
      "a. 550\n",
      "b. 5050\n",
      "c. 2550\n"
     ]
    }
   ],
   "source": [
    "def sum_all(start = 0, end = 100, step = 1):\n",
    "    output = 0\n",
    "    for i in range(start, end + 1, step):\n",
    "        output = output + i\n",
    "    return output\n",
    "\n",
    "print(\"a.\", sum_all(0, 100, 10))\n",
    "print(\"b.\", sum_all(end = 100))\n",
    "print(\"c.\", sum_all(end = 100, step = 2))"
   ]
  },
  {
   "cell_type": "code",
   "execution_count": 29,
   "metadata": {},
   "outputs": [
    {
     "name": "stdout",
     "output_type": "stream",
     "text": [
      "1\n",
      "3\n",
      "15\n",
      "105\n",
      "945\n",
      "1890\n",
      "1890\n"
     ]
    }
   ],
   "source": [
    "def mul(*values):\n",
    "    result = 1\n",
    "    for value in values:\n",
    "        result = result * value\n",
    "        print(result)\n",
    "    return result\n",
    "print(mul(1, 3, 5, 7, 9, 2))"
   ]
  },
  {
   "cell_type": "code",
   "execution_count": 30,
   "metadata": {},
   "outputs": [
    {
     "name": "stdout",
     "output_type": "stream",
     "text": [
      "21\n"
     ]
    }
   ],
   "source": [
    "def f(x):\n",
    "    return 2 * x + 1\n",
    "print(f(10))"
   ]
  },
  {
   "cell_type": "code",
   "execution_count": 31,
   "metadata": {},
   "outputs": [
    {
     "name": "stdout",
     "output_type": "stream",
     "text": [
      "121\n"
     ]
    }
   ],
   "source": [
    "def f(x):\n",
    "    return x**2 + 2 * x + 1\n",
    "print(f(10))"
   ]
  },
  {
   "cell_type": "code",
   "execution_count": 34,
   "metadata": {},
   "outputs": [
    {
     "name": "stdout",
     "output_type": "stream",
     "text": [
      "1 99 99\n",
      "2 98 196\n",
      "3 97 291\n",
      "4 96 384\n",
      "5 95 475\n",
      "6 94 564\n",
      "7 93 651\n",
      "8 92 736\n",
      "9 91 819\n",
      "10 90 900\n",
      "11 89 979\n",
      "12 88 1056\n",
      "13 87 1131\n",
      "14 86 1204\n",
      "15 85 1275\n",
      "16 84 1344\n",
      "17 83 1411\n",
      "18 82 1476\n",
      "19 81 1539\n",
      "20 80 1600\n",
      "21 79 1659\n",
      "22 78 1716\n",
      "23 77 1771\n",
      "24 76 1824\n",
      "25 75 1875\n",
      "26 74 1924\n",
      "27 73 1971\n",
      "28 72 2016\n",
      "29 71 2059\n",
      "30 70 2100\n",
      "31 69 2139\n",
      "32 68 2176\n",
      "33 67 2211\n",
      "34 66 2244\n",
      "35 65 2275\n",
      "36 64 2304\n",
      "37 63 2331\n",
      "38 62 2356\n",
      "39 61 2379\n",
      "40 60 2400\n",
      "41 59 2419\n",
      "42 58 2436\n",
      "43 57 2451\n",
      "44 56 2464\n",
      "45 55 2475\n",
      "46 54 2484\n",
      "47 53 2491\n",
      "48 52 2496\n",
      "49 51 2499\n",
      "50 50 2500\n"
     ]
    }
   ],
   "source": [
    "max_value = 0\n",
    "a = 0\n",
    "b = 0\n",
    "for i in range(1, 100):\n",
    "    j = 100 - i\n",
    "    times = i * j\n",
    "    if times > max_value:\n",
    "        max_value = times\n",
    "        a = i\n",
    "        b = j\n",
    "        print(a, b, max_value)\n",
    "    i = i + 1\n",
    "    "
   ]
  },
  {
   "cell_type": "code",
   "execution_count": 10,
   "metadata": {},
   "outputs": [
    {
     "name": "stdout",
     "output_type": "stream",
     "text": [
      "141 10011\n"
     ]
    }
   ],
   "source": [
    "limit = 10000\n",
    "i = 1\n",
    "sum_val = 0\n",
    "while True:\n",
    "    sum_val = sum_val + i\n",
    "    if sum_val > limit:\n",
    "        break\n",
    "    i = i + 1\n",
    "print(i, sum_val)"
   ]
  },
  {
   "cell_type": "code",
   "execution_count": 8,
   "metadata": {},
   "outputs": [
    {
     "name": "stdout",
     "output_type": "stream",
     "text": [
      "141 10011\n"
     ]
    }
   ],
   "source": [
    "limit = 10000\n",
    "i = 1\n",
    "sum_val = 0\n",
    "while True:\n",
    "    sum_val = sum_val + i\n",
    "    if sum_val > limit:\n",
    "        break\n",
    "    i = i + 1\n",
    "print(i, sum_val)"
   ]
  },
  {
   "cell_type": "code",
   "execution_count": 9,
   "metadata": {},
   "outputs": [
    {
     "name": "stdout",
     "output_type": "stream",
     "text": [
      "141 10011\n"
     ]
    }
   ],
   "source": [
    "limit = 10000\n",
    "i = 1\n",
    "sum_val = 0\n",
    "while True:\n",
    "    sum_val = sum_val + i\n",
    "    if sum_val > limit:\n",
    "        break\n",
    "    i = i + 1\n",
    "print(i, sum_val)"
   ]
  },
  {
   "cell_type": "code",
   "execution_count": 7,
   "metadata": {},
   "outputs": [
    {
     "name": "stdout",
     "output_type": "stream",
     "text": [
      "2\n",
      "6\n",
      "30\n",
      "210\n",
      "2100\n",
      "2100\n"
     ]
    }
   ],
   "source": [
    "def mul(*values):\n",
    "    result = 1\n",
    "    for val in values:\n",
    "        result = result * val\n",
    "        print(result)\n",
    "    return result\n",
    "print(mul(2, 3, 5, 7, 10))"
   ]
  },
  {
   "cell_type": "code",
   "execution_count": 12,
   "metadata": {},
   "outputs": [
    {
     "name": "stdout",
     "output_type": "stream",
     "text": [
      "1 99 99\n",
      "2 98 196\n",
      "3 97 291\n",
      "4 96 384\n",
      "5 95 475\n",
      "6 94 564\n",
      "7 93 651\n",
      "8 92 736\n",
      "9 91 819\n",
      "10 90 900\n",
      "11 89 979\n",
      "12 88 1056\n",
      "13 87 1131\n",
      "14 86 1204\n",
      "15 85 1275\n",
      "16 84 1344\n",
      "17 83 1411\n",
      "18 82 1476\n",
      "19 81 1539\n",
      "20 80 1600\n",
      "21 79 1659\n",
      "22 78 1716\n",
      "23 77 1771\n",
      "24 76 1824\n",
      "25 75 1875\n",
      "26 74 1924\n",
      "27 73 1971\n",
      "28 72 2016\n",
      "29 71 2059\n",
      "30 70 2100\n",
      "31 69 2139\n",
      "32 68 2176\n",
      "33 67 2211\n",
      "34 66 2244\n",
      "35 65 2275\n",
      "36 64 2304\n",
      "37 63 2331\n",
      "38 62 2356\n",
      "39 61 2379\n",
      "40 60 2400\n",
      "41 59 2419\n",
      "42 58 2436\n",
      "43 57 2451\n",
      "44 56 2464\n",
      "45 55 2475\n",
      "46 54 2484\n",
      "47 53 2491\n",
      "48 52 2496\n",
      "49 51 2499\n",
      "50 50 2500\n",
      "51 49 2499\n",
      "52 48 2496\n",
      "53 47 2491\n",
      "54 46 2484\n",
      "55 45 2475\n",
      "56 44 2464\n",
      "57 43 2451\n",
      "58 42 2436\n",
      "59 41 2419\n",
      "60 40 2400\n",
      "61 39 2379\n",
      "62 38 2356\n",
      "63 37 2331\n",
      "64 36 2304\n",
      "65 35 2275\n",
      "66 34 2244\n",
      "67 33 2211\n",
      "68 32 2176\n",
      "69 31 2139\n",
      "70 30 2100\n",
      "71 29 2059\n",
      "72 28 2016\n",
      "73 27 1971\n",
      "74 26 1924\n",
      "75 25 1875\n",
      "76 24 1824\n",
      "77 23 1771\n",
      "78 22 1716\n",
      "79 21 1659\n",
      "80 20 1600\n",
      "81 19 1539\n",
      "82 18 1476\n",
      "83 17 1411\n",
      "84 16 1344\n",
      "85 15 1275\n",
      "86 14 1204\n",
      "87 13 1131\n",
      "88 12 1056\n",
      "89 11 979\n",
      "90 10 900\n",
      "91 9 819\n",
      "92 8 736\n",
      "93 7 651\n",
      "94 6 564\n",
      "95 5 475\n",
      "96 4 384\n",
      "97 3 291\n",
      "98 2 196\n",
      "99 1 99\n",
      "1 99 99\n",
      "2 98 196\n",
      "3 97 291\n",
      "4 96 384\n",
      "5 95 475\n",
      "6 94 564\n",
      "7 93 651\n",
      "8 92 736\n",
      "9 91 819\n",
      "10 90 900\n",
      "11 89 979\n",
      "12 88 1056\n",
      "13 87 1131\n",
      "14 86 1204\n",
      "15 85 1275\n",
      "16 84 1344\n",
      "17 83 1411\n",
      "18 82 1476\n",
      "19 81 1539\n",
      "20 80 1600\n",
      "21 79 1659\n",
      "22 78 1716\n",
      "23 77 1771\n",
      "24 76 1824\n",
      "25 75 1875\n",
      "26 74 1924\n",
      "27 73 1971\n",
      "28 72 2016\n",
      "29 71 2059\n",
      "30 70 2100\n",
      "31 69 2139\n",
      "32 68 2176\n",
      "33 67 2211\n",
      "34 66 2244\n",
      "35 65 2275\n",
      "36 64 2304\n",
      "37 63 2331\n",
      "38 62 2356\n",
      "39 61 2379\n",
      "40 60 2400\n",
      "41 59 2419\n",
      "42 58 2436\n",
      "43 57 2451\n",
      "44 56 2464\n",
      "45 55 2475\n",
      "46 54 2484\n",
      "47 53 2491\n",
      "48 52 2496\n",
      "49 51 2499\n",
      "50 50 2500\n"
     ]
    }
   ],
   "source": [
    "for i in range(1, 100):\n",
    "    j = 100 - i\n",
    "    result = i * j\n",
    "    max_value = 0\n",
    "    if max_value < result:\n",
    "        max_value = result\n",
    "        a = i\n",
    "        b = j\n",
    "        print(i, j, max_value)\n",
    "\n",
    "max_value = 0\n",
    "a = 0\n",
    "b = 0\n",
    "for i in range(1, 100):\n",
    "    j = 100 - i\n",
    "    times = i * j\n",
    "    if times > max_value:\n",
    "        max_value = times\n",
    "        a = i\n",
    "        b = j\n",
    "        print(a, b, max_value)\n",
    "    i = i + 1\n",
    "    "
   ]
  },
  {
   "cell_type": "code",
   "execution_count": 14,
   "metadata": {},
   "outputs": [
    {
     "data": {
      "text/plain": [
       "(10, 20, 30)"
      ]
     },
     "execution_count": 14,
     "metadata": {},
     "output_type": "execute_result"
    }
   ],
   "source": [
    "tuple_test = (10, 20, 30)\n",
    "tuple_test"
   ]
  },
  {
   "cell_type": "code",
   "execution_count": 15,
   "metadata": {},
   "outputs": [
    {
     "data": {
      "text/plain": [
       "10"
      ]
     },
     "execution_count": 15,
     "metadata": {},
     "output_type": "execute_result"
    }
   ],
   "source": [
    "tuple_test[0]"
   ]
  },
  {
   "cell_type": "code",
   "execution_count": 16,
   "metadata": {},
   "outputs": [
    {
     "ename": "TypeError",
     "evalue": "'tuple' object does not support item assignment",
     "output_type": "error",
     "traceback": [
      "\u001b[1;31m---------------------------------------------------------------------------\u001b[0m",
      "\u001b[1;31mTypeError\u001b[0m                                 Traceback (most recent call last)",
      "\u001b[1;32m<ipython-input-16-79202760a764>\u001b[0m in \u001b[0;36m<module>\u001b[1;34m\u001b[0m\n\u001b[1;32m----> 1\u001b[1;33m \u001b[0mtuple_test\u001b[0m\u001b[1;33m[\u001b[0m\u001b[1;36m0\u001b[0m\u001b[1;33m]\u001b[0m \u001b[1;33m=\u001b[0m \u001b[1;36m1\u001b[0m\u001b[1;33m\u001b[0m\u001b[1;33m\u001b[0m\u001b[0m\n\u001b[0m",
      "\u001b[1;31mTypeError\u001b[0m: 'tuple' object does not support item assignment"
     ]
    }
   ],
   "source": [
    "tuple_test[0] = 1"
   ]
  },
  {
   "cell_type": "code",
   "execution_count": 17,
   "metadata": {},
   "outputs": [
    {
     "name": "stdout",
     "output_type": "stream",
     "text": [
      "#괄호가 없는 튜플의 값과 자료형 출력\n",
      "tuple_test: (10, 20, 30, 40)\n",
      "type(tuple_test): <class 'tuple'>\n",
      "\n",
      "#괄호가 없는 튜플을 활용한 할당\n",
      "a: 10\n",
      "b: 20\n",
      "c: 30\n"
     ]
    }
   ],
   "source": [
    "tuple_test = 10, 20, 30, 40\n",
    "print(\"#괄호가 없는 튜플의 값과 자료형 출력\")\n",
    "print(\"tuple_test:\", tuple_test)\n",
    "print(\"type(tuple_test):\", type(tuple_test))\n",
    "print()\n",
    "a, b, c = 10, 20, 30\n",
    "print(\"#괄호가 없는 튜플을 활용한 할당\")\n",
    "print(\"a:\", a)\n",
    "print(\"b:\", b)\n",
    "print(\"c:\", c)\n"
   ]
  },
  {
   "cell_type": "code",
   "execution_count": 18,
   "metadata": {},
   "outputs": [
    {
     "name": "stdout",
     "output_type": "stream",
     "text": [
      "a: 10\n",
      "b: 20\n",
      "c: 10\n",
      "d: 20\n"
     ]
    }
   ],
   "source": [
    "[a, b] = [10, 20]\n",
    "(c, d) = (10, 20)\n",
    "print(\"a:\", a)\n",
    "print(\"b:\", b)\n",
    "print(\"c:\", c)\n",
    "print(\"d:\", d)\n"
   ]
  },
  {
   "cell_type": "code",
   "execution_count": 19,
   "metadata": {},
   "outputs": [
    {
     "name": "stdout",
     "output_type": "stream",
     "text": [
      "tuple_a: (10, 20, 30, 40)\n",
      "type(tuple_a): <class 'tuple'>\n",
      "\n",
      "a: 10\n",
      "b: 20\n",
      "c: 30\n"
     ]
    }
   ],
   "source": [
    "tuple_a = 10, 20, 30, 40\n",
    "print(\"tuple_a:\", tuple_a)\n",
    "print(\"type(tuple_a):\", type(tuple_a))\n",
    "print()\n",
    "\n",
    "a, b, c = 10, 20, 30\n",
    "print(\"a:\", a)\n",
    "print(\"b:\", b)\n",
    "print(\"c:\", c)"
   ]
  },
  {
   "cell_type": "code",
   "execution_count": 20,
   "metadata": {},
   "outputs": [
    {
     "name": "stdout",
     "output_type": "stream",
     "text": [
      "a: 10\n",
      "b: 20\n",
      "\n",
      "a: 20\n",
      "b: 10\n"
     ]
    }
   ],
   "source": [
    "a, b = 10, 20\n",
    "print(\"a:\", a)\n",
    "print(\"b:\", b)\n",
    "print()\n",
    "a, b = b, a\n",
    "print(\"a:\", a)\n",
    "print(\"b:\", b)"
   ]
  },
  {
   "cell_type": "code",
   "execution_count": 21,
   "metadata": {},
   "outputs": [
    {
     "name": "stdout",
     "output_type": "stream",
     "text": [
      "a: 10\n",
      "b: 20\n"
     ]
    }
   ],
   "source": [
    "def test():\n",
    "    return (10, 20)\n",
    "a, b = test()\n",
    "print(\"a:\", a)\n",
    "print(\"b:\", b)"
   ]
  },
  {
   "cell_type": "code",
   "execution_count": 22,
   "metadata": {},
   "outputs": [],
   "source": [
    "a = (273)"
   ]
  },
  {
   "cell_type": "code",
   "execution_count": 23,
   "metadata": {},
   "outputs": [
    {
     "data": {
      "text/plain": [
       "int"
      ]
     },
     "execution_count": 23,
     "metadata": {},
     "output_type": "execute_result"
    }
   ],
   "source": [
    "type(a)"
   ]
  },
  {
   "cell_type": "code",
   "execution_count": 24,
   "metadata": {},
   "outputs": [
    {
     "data": {
      "text/plain": [
       "tuple"
      ]
     },
     "execution_count": 24,
     "metadata": {},
     "output_type": "execute_result"
    }
   ],
   "source": [
    "a = (273, )\n",
    "type(a)"
   ]
  },
  {
   "cell_type": "code",
   "execution_count": 26,
   "metadata": {},
   "outputs": [
    {
     "name": "stdout",
     "output_type": "stream",
     "text": [
      "result: 5\n",
      "result: 15\n",
      "result: 15\n",
      "result: 105\n",
      "result: 945\n",
      "result: 1890\n",
      "1890\n"
     ]
    }
   ],
   "source": [
    "def mul(*values):\n",
    "    result = 1\n",
    "    for value in values:\n",
    "        result = result * value\n",
    "        print(\"result:\", result)\n",
    "    return result\n",
    "    \n",
    "print(mul(5, 3, 1, 7, 9, 2))"
   ]
  },
  {
   "cell_type": "code",
   "execution_count": 31,
   "metadata": {},
   "outputs": [
    {
     "name": "stdout",
     "output_type": "stream",
     "text": [
      "1 99 99\n",
      "2 98 196\n",
      "3 97 291\n",
      "4 96 384\n",
      "5 95 475\n",
      "6 94 564\n",
      "7 93 651\n",
      "8 92 736\n",
      "9 91 819\n",
      "10 90 900\n",
      "11 89 979\n",
      "12 88 1056\n",
      "13 87 1131\n",
      "14 86 1204\n",
      "15 85 1275\n",
      "16 84 1344\n",
      "17 83 1411\n",
      "18 82 1476\n",
      "19 81 1539\n",
      "20 80 1600\n",
      "21 79 1659\n",
      "22 78 1716\n",
      "23 77 1771\n",
      "24 76 1824\n",
      "25 75 1875\n",
      "26 74 1924\n",
      "27 73 1971\n",
      "28 72 2016\n",
      "29 71 2059\n",
      "30 70 2100\n",
      "31 69 2139\n",
      "32 68 2176\n",
      "33 67 2211\n",
      "34 66 2244\n",
      "35 65 2275\n",
      "36 64 2304\n",
      "37 63 2331\n",
      "38 62 2356\n",
      "39 61 2379\n",
      "40 60 2400\n",
      "41 59 2419\n",
      "42 58 2436\n",
      "43 57 2451\n",
      "44 56 2464\n",
      "45 55 2475\n",
      "46 54 2484\n",
      "47 53 2491\n",
      "48 52 2496\n",
      "49 51 2499\n",
      "50 50 2500\n",
      "a값은 50, b값은50 일 때 최대값 2500을 가진다\n"
     ]
    }
   ],
   "source": [
    "max_data = 0\n",
    "a = 0\n",
    "b = 0\n",
    "for i in range(1, 51):\n",
    "    j = 100 - i\n",
    "    result = i * j\n",
    "    if result > max_data:\n",
    "        max_data = result\n",
    "        a = i\n",
    "        b = j\n",
    "        print(a, b, max_data)\n",
    "print(\"a값은 {}, b값은{} 일 때 최대값 {}을 가진다\".format(a, b, max_data))"
   ]
  },
  {
   "cell_type": "code",
   "execution_count": 40,
   "metadata": {},
   "outputs": [
    {
     "name": "stdout",
     "output_type": "stream",
     "text": [
      "141 10011\n"
     ]
    }
   ],
   "source": [
    "limit = 10000\n",
    "i = 1\n",
    "sum_data = 0\n",
    "while True:\n",
    "    #sum_data = 0 #(조건문안에 있으면 반복하면서 sum_data값이 \n",
    "                  #계속 0으로 초기화됨, 밖으로 빼줄것)\n",
    "    #i = i + 1 (출력값이 달라짐)\n",
    "    sum_data = sum_data + i\n",
    "    if sum_data > limit:\n",
    "        break\n",
    "    #print(i, sum_data) #정답\n",
    "    i = i + 1\n",
    "    #sum_data = sum_data + i\n",
    "    #print(i, sum_data) #>> 정답값이 (a, b)기준 (a, b-a)\n",
    "print(i, sum_data) #정답\n",
    "#print()의 위치에 따라서 결과값이 다르게 나옴"
   ]
  },
  {
   "cell_type": "code",
   "execution_count": 41,
   "metadata": {},
   "outputs": [
    {
     "name": "stdout",
     "output_type": "stream",
     "text": [
      "{'name': '기사'}\n",
      "{'name': '기사', 'hp': 200}\n",
      "{'name': '기사', 'hp': 200, 'mp': 30}\n",
      "{'name': '기사', 'hp': 200, 'mp': 30, 'level': 5}\n",
      "character = {'name': '기사', 'hp': 200, 'mp': 30, 'level': 5}\n"
     ]
    }
   ],
   "source": [
    "key_list = [\"name\", \"hp\", \"mp\", \"level\"]\n",
    "value_list = [\"기사\", 200, 30, 5]\n",
    "character = {}\n",
    "\n",
    "for n in range(len(key_list)):\n",
    "    character[key_list[n]] = value_list[n]\n",
    "    print(character)\n",
    "print(\"character =\", character)"
   ]
  },
  {
   "cell_type": "code",
   "execution_count": 49,
   "metadata": {},
   "outputs": [
    {
     "name": "stdout",
     "output_type": "stream",
     "text": [
      "name : 기사\n",
      "level : 5\n",
      "sword : 불꽃의 검\n",
      "amor : 풀플레이트\n",
      "skil : 베기\n",
      "skil : 세게베기\n",
      "skil : 많이 세게베기\n"
     ]
    }
   ],
   "source": [
    "character_list = {\n",
    "    \"name\": \"기사\", \n",
    "    \"level\": 12,\n",
    "    \"item\": {\"sword\": \"불꽃의 검\", \n",
    "            \"amor\": \"풀플레이트\"},\n",
    "    \"skil\": [\"베기\", \"세게베기\", \"많이 세게베기\"]\n",
    "}\n",
    "for key in character_list:\n",
    "    if type(character_list[key]) is dict:\n",
    "        for i in character_list[key]:\n",
    "            print(i, \":\", character_list[key][i])\n",
    "    elif type(character_list[key]) is list:\n",
    "        for n in character_list[key]:\n",
    "            print(key, \":\", n)\n",
    "    else:\n",
    "        print(key, \":\", character[key])\n",
    "        \n"
   ]
  },
  {
   "cell_type": "code",
   "execution_count": 54,
   "metadata": {},
   "outputs": [
    {
     "name": "stdout",
     "output_type": "stream",
     "text": [
      "{1: 3, 2: 2, 3: 3, 4: 1, 6: 2, 7: 2, 8: 1, 9: 2, 5: 1, 10: 1}\n"
     ]
    }
   ],
   "source": [
    "numbers = [1, 2, 3, 3, 4, 6, 7, 8, 9, 1, 2, 1, 5, 6, 3, 7, 9, 10]\n",
    "counter = {}\n",
    "for number in numbers:\n",
    "    if number in counter:\n",
    "        counter[number] = counter[number] + 1\n",
    "    else:\n",
    "        counter[number] = 1\n",
    "print(counter)"
   ]
  },
  {
   "cell_type": "code",
   "execution_count": 53,
   "metadata": {},
   "outputs": [
    {
     "name": "stdout",
     "output_type": "stream",
     "text": [
      "{1: 4, 2: 4, 3: 4, 4: 1, 5: 2, 6: 3, 7: 3, 8: 2, 9: 1}\n"
     ]
    }
   ],
   "source": [
    "numbers = [1, 2, 3, 4, 5, 6, 7, 8, 1, 2, 3, 5, 6, 2, 1, 6, 7, 9, 1, 2, 3, 3, 7, 8]\n",
    "counter = {}\n",
    "for number in numbers:\n",
    "    if number in counter:\n",
    "        counter[number] = counter[number] + 1\n",
    "    else:\n",
    "        counter[number] = 1\n",
    "print(counter)"
   ]
  },
  {
   "cell_type": "code",
   "execution_count": 55,
   "metadata": {},
   "outputs": [
    {
     "ename": "SyntaxError",
     "evalue": "unexpected EOF while parsing (<ipython-input-55-866475acfbcc>, line 7)",
     "output_type": "error",
     "traceback": [
      "\u001b[1;36m  File \u001b[1;32m\"<ipython-input-55-866475acfbcc>\"\u001b[1;36m, line \u001b[1;32m7\u001b[0m\n\u001b[1;33m    print(\"{} {}살\".format(pets[\"name\"], pets[\"age\"])\u001b[0m\n\u001b[1;37m                                                    ^\u001b[0m\n\u001b[1;31mSyntaxError\u001b[0m\u001b[1;31m:\u001b[0m unexpected EOF while parsing\n"
     ]
    }
   ],
   "source": [
    "pets = [\n",
    "    {\"name\": \"구름\", \"age\": 5},\n",
    "    {\"name\": \"초코\", \"age\": 3},\n",
    "    {\"name\": \"아지\", \"age\": 1},\n",
    "    {\"name\": \"호랑이\", \"age\": 1}\n",
    "]\n",
    "for pet in pets:\n",
    "    \n",
    "print(\"{} {}살\".format(pet[\"name\"], pet[\"age\"])"
   ]
  },
  {
   "cell_type": "code",
   "execution_count": null,
   "metadata": {},
   "outputs": [],
   "source": []
  }
 ],
 "metadata": {
  "kernelspec": {
   "display_name": "Python 3",
   "language": "python",
   "name": "python3"
  },
  "language_info": {
   "codemirror_mode": {
    "name": "ipython",
    "version": 3
   },
   "file_extension": ".py",
   "mimetype": "text/x-python",
   "name": "python",
   "nbconvert_exporter": "python",
   "pygments_lexer": "ipython3",
   "version": "3.7.4"
  }
 },
 "nbformat": 4,
 "nbformat_minor": 2
}
