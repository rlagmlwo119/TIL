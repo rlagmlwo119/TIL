{
 "cells": [
  {
   "cell_type": "code",
   "execution_count": 1,
   "metadata": {},
   "outputs": [
    {
     "name": "stdout",
     "output_type": "stream",
     "text": [
      "입력 A> 273\n",
      "입력B> 52\n",
      "문자열 자료:  27352\n",
      "숫자 자료:  325\n"
     ]
    }
   ],
   "source": [
    "string_a = input(\"입력 A> \")\n",
    "int_a = int(string_a)\n",
    "\n",
    "string_b = input(\"입력B> \")\n",
    "int_b = int(string_b)\n",
    "\n",
    "print(\"문자열 자료: \", string_a + string_b)\n",
    "print(\"숫자 자료: \", int_a + int_b)"
   ]
  },
  {
   "cell_type": "code",
   "execution_count": 2,
   "metadata": {},
   "outputs": [
    {
     "name": "stdout",
     "output_type": "stream",
     "text": [
      "첫번째 숫자> 273\n",
      "두번째 숫자> 52\n",
      "덧셈 결과:  325.0\n",
      "뺄셈 결과:  221.0\n",
      "곱셈 결과:  14196.0\n",
      "나눗셈 결과:  5.25\n"
     ]
    }
   ],
   "source": [
    "input_a = float(input(\"첫번째 숫자> \"))\n",
    "input_b = float(input(\"두번째 숫자> \"))\n",
    "\n",
    "print(\"덧셈 결과: \", input_a + input_b)\n",
    "print(\"뺄셈 결과: \", input_a - input_b)\n",
    "print(\"곱셈 결과: \", input_a * input_b)\n",
    "print(\"나눗셈 결과: \", input_a / input_b)"
   ]
  },
  {
   "cell_type": "code",
   "execution_count": 3,
   "metadata": {},
   "outputs": [
    {
     "name": "stdout",
     "output_type": "stream",
     "text": [
      "<class 'str'> 52\n",
      "<class 'str'> 52.273\n"
     ]
    }
   ],
   "source": [
    "output_a = str(52)\n",
    "output_b = str(52.273)\n",
    "print(type(output_a), output_a)\n",
    "print(type(output_b), output_b)"
   ]
  },
  {
   "cell_type": "code",
   "execution_count": 10,
   "metadata": {},
   "outputs": [
    {
     "name": "stdout",
     "output_type": "stream",
     "text": [
      "숫자 입력> 1\n",
      "\n",
      "1 inch\n",
      "2.54 cm\n"
     ]
    }
   ],
   "source": [
    "str_input = input(\"숫자 입력> \")\n",
    "num_input = int(str_input)\n",
    "\n",
    "print() #결과값을 한줄 띄우기 위해 사용\n",
    "print(num_input, \"inch\")\n",
    "print((num_input * 2.54), \"cm\")"
   ]
  },
  {
   "cell_type": "code",
   "execution_count": 23,
   "metadata": {},
   "outputs": [
    {
     "name": "stdout",
     "output_type": "stream",
     "text": [
      "숫자 입력> 26\n",
      "\n",
      "26.0 inch\n",
      "66.04 cm\n"
     ]
    }
   ],
   "source": [
    "str_input = input(\"숫자 입력> \")\n",
    "num_input = float(str_input)\n",
    "\n",
    "print() #결과값을 한줄 띄우기 위해 사용\n",
    "print(num_input, \"inch\")\n",
    "print((num_input * 2.54), \"cm\")"
   ]
  },
  {
   "cell_type": "code",
   "execution_count": 7,
   "metadata": {
    "scrolled": true
   },
   "outputs": [
    {
     "name": "stdout",
     "output_type": "stream",
     "text": [
      "원의 반지름 입력> 2\n",
      "\n",
      "반지름:  2.0\n",
      "둘레:  12.56\n",
      "넓이:  12.56\n"
     ]
    }
   ],
   "source": [
    "str_input = input(\"원의 반지름 입력> \")\n",
    "num_input = float(str_input)\n",
    "\n",
    "print() #결과값을 한줄 띄우기 위해 사용\n",
    "print(\"반지름: \", num_input)\n",
    "print(\"둘레: \",2 * 3.14 * num_input)\n",
    "print(\"넓이: \", 3.14 * num_input ** 2)"
   ]
  },
  {
   "cell_type": "code",
   "execution_count": 8,
   "metadata": {},
   "outputs": [
    {
     "name": "stdout",
     "output_type": "stream",
     "text": [
      "원의 반지름 입력> 5\n",
      "\n",
      "반지름:  5.0\n",
      "둘레:  31.400000000000002\n",
      "넓이:  78.5\n"
     ]
    }
   ],
   "source": [
    "str_input = input(\"원의 반지름 입력> \")\n",
    "num_input = float(str_input)\n",
    "\n",
    "print() #결과값을 한줄 띄우기 위해 사용\n",
    "print(\"반지름: \", num_input)\n",
    "print(\"둘레: \",2 * 3.14 * num_input)\n",
    "print(\"넓이: \", 3.14 * num_input ** 2)"
   ]
  },
  {
   "cell_type": "code",
   "execution_count": 12,
   "metadata": {},
   "outputs": [
    {
     "name": "stdout",
     "output_type": "stream",
     "text": [
      "문자열 입력> 안녕하세요\n",
      "문자열 입력> 아침입니다\n",
      "\n",
      "안녕하세요 아침입니다\n",
      "\n",
      "아침입니다 안녕하세요\n"
     ]
    }
   ],
   "source": [
    "a = input(\"문자열 입력> \")\n",
    "b = input(\"문자열 입력> \")\n",
    "print()\n",
    "print(a, b)\n",
    "\n",
    "temp = a\n",
    "a = b\n",
    "b = temp\n",
    "print()\n",
    "print(a, b)"
   ]
  },
  {
   "cell_type": "code",
   "execution_count": 17,
   "metadata": {},
   "outputs": [
    {
     "data": {
      "text/plain": [
       "52"
      ]
     },
     "execution_count": 17,
     "metadata": {},
     "output_type": "execute_result"
    }
   ],
   "source": [
    "int(52.273) #실수 >> 정수는 가능"
   ]
  },
  {
   "cell_type": "code",
   "execution_count": 19,
   "metadata": {
    "scrolled": true
   },
   "outputs": [
    {
     "name": "stdout",
     "output_type": "stream",
     "text": [
      "입력A> 52.273\n"
     ]
    },
    {
     "ename": "ValueError",
     "evalue": "invalid literal for int() with base 10: '52.273'",
     "output_type": "error",
     "traceback": [
      "\u001b[1;31m---------------------------------------------------------------------------\u001b[0m",
      "\u001b[1;31mValueError\u001b[0m                                Traceback (most recent call last)",
      "\u001b[1;32m<ipython-input-19-b04c0a5c8023>\u001b[0m in \u001b[0;36m<module>\u001b[1;34m\u001b[0m\n\u001b[0;32m      1\u001b[0m \u001b[0mKHJ\u001b[0m \u001b[1;33m=\u001b[0m \u001b[0minput\u001b[0m\u001b[1;33m(\u001b[0m\u001b[1;34m\"입력A> \"\u001b[0m\u001b[1;33m)\u001b[0m\u001b[1;33m\u001b[0m\u001b[1;33m\u001b[0m\u001b[0m\n\u001b[1;32m----> 2\u001b[1;33m \u001b[0mint_a\u001b[0m \u001b[1;33m=\u001b[0m \u001b[0mint\u001b[0m\u001b[1;33m(\u001b[0m\u001b[0mKHJ\u001b[0m\u001b[1;33m)\u001b[0m\u001b[1;33m\u001b[0m\u001b[1;33m\u001b[0m\u001b[0m\n\u001b[0m",
      "\u001b[1;31mValueError\u001b[0m: invalid literal for int() with base 10: '52.273'"
     ]
    }
   ],
   "source": [
    "KHJ = input(\"입력A> \")\n",
    "int_a = int(KHJ) #실수 문자열 >> 정수는 불가능"
   ]
  },
  {
   "cell_type": "code",
   "execution_count": 21,
   "metadata": {},
   "outputs": [
    {
     "name": "stdout",
     "output_type": "stream",
     "text": [
      "입력A> 52.273\n"
     ]
    }
   ],
   "source": [
    "KHJ = input(\"입력A> \")\n",
    "float_a = float(KHJ) #실수 문자열 >> 실수는 가능"
   ]
  },
  {
   "cell_type": "code",
   "execution_count": 22,
   "metadata": {},
   "outputs": [
    {
     "name": "stdout",
     "output_type": "stream",
     "text": [
      "입력A> 52\n"
     ]
    }
   ],
   "source": [
    "KHJ = input(\"입력A> \")\n",
    "int_a = int(KHJ) #정수 문자열 >> 정수는 가능"
   ]
  },
  {
   "cell_type": "code",
   "execution_count": 24,
   "metadata": {},
   "outputs": [
    {
     "name": "stdout",
     "output_type": "stream",
     "text": [
      "정수입력: 12345678\n",
      "짝수\n"
     ]
    }
   ],
   "source": [
    "number = input(\"정수입력: \")\n",
    "last_character = number[-1]\n",
    "\n",
    "if last_character in \"02468\":\n",
    "    print(\"짝수\")\n",
    "    \n",
    "if last_character in \"13579\":\n",
    "    print(\"홀수\")"
   ]
  },
  {
   "cell_type": "code",
   "execution_count": 56,
   "metadata": {},
   "outputs": [
    {
     "name": "stdout",
     "output_type": "stream",
     "text": [
      "> 첫번째 숫자: 100\n",
      "> 두번째 숫자: 10\n",
      "\n",
      "처음 입력한 100.0이 10.0보다 큽니다\n"
     ]
    }
   ],
   "source": [
    "a = float(input(\"> 첫번째 숫자: \"))\n",
    "b = float(input(\"> 두번째 숫자: \"))\n",
    "print()\n",
    "if a > b:\n",
    "    print(\"처음 입력한 {}이 {}보다 큽니다\".format(a, b))\n",
    "if a < b:\n",
    "    print(\"나중에 입력한 {}이 {}보다 큽니다\".format(b, a))"
   ]
  },
  {
   "cell_type": "code",
   "execution_count": 28,
   "metadata": {},
   "outputs": [
    {
     "name": "stdout",
     "output_type": "stream",
     "text": [
      "> 정수입력: -1\n",
      "음수\n"
     ]
    }
   ],
   "source": [
    "number = int(input(\"> 정수입력: \"))\n",
    "\n",
    "if number > 0:\n",
    "    print(\"양수\")\n",
    "if number < 0:\n",
    "    print(\"음수\")\n",
    "if number == 0:\n",
    "    print(\"0\")"
   ]
  },
  {
   "cell_type": "code",
   "execution_count": 29,
   "metadata": {},
   "outputs": [
    {
     "name": "stdout",
     "output_type": "stream",
     "text": [
      "2020 년\n",
      "6 월\n",
      "22 일\n"
     ]
    }
   ],
   "source": [
    "import datetime\n",
    "now = datetime.datetime.now()\n",
    "\n",
    "print(now.year, \"년\")\n",
    "print(now.month, \"월\")\n",
    "print(now.day, \"일\")\n"
   ]
  },
  {
   "cell_type": "code",
   "execution_count": 30,
   "metadata": {},
   "outputs": [
    {
     "name": "stdout",
     "output_type": "stream",
     "text": [
      "2020년 6월 22일\n"
     ]
    }
   ],
   "source": [
    "print(\"{}년 {}월 {}일\".format(now.year, now.month, now.day))"
   ]
  },
  {
   "cell_type": "code",
   "execution_count": 32,
   "metadata": {},
   "outputs": [
    {
     "name": "stdout",
     "output_type": "stream",
     "text": [
      "오후 4 시 입니다\n"
     ]
    }
   ],
   "source": [
    "if now.hour < 12:\n",
    "    print(\"오전\", now.hour, \"시 입니다\" )\n",
    "if now.hour > 12:\n",
    "    print(\"오후\", now.hour - 12, \"시 입니다\")"
   ]
  },
  {
   "cell_type": "code",
   "execution_count": 57,
   "metadata": {},
   "outputs": [
    {
     "name": "stdout",
     "output_type": "stream",
     "text": [
      "월 입력: 6\n",
      "여름\n"
     ]
    }
   ],
   "source": [
    "now_month = int(input(\"월 입력: \"))\n",
    "if 3 <= now_month <= 5:\n",
    "    print(\"봄\")\n",
    "if 6<= now_month <= 8:\n",
    "    print(\"여름\")\n",
    "if 9<= now_month <= 10:\n",
    "    print(\"가을\")\n",
    "if 11 <= now_month <= 12 or 1 <= now_month <=  2:\n",
    "    print(\"겨울\")"
   ]
  },
  {
   "cell_type": "code",
   "execution_count": 50,
   "metadata": {},
   "outputs": [
    {
     "name": "stdout",
     "output_type": "stream",
     "text": [
      "정수입력: 1234\n",
      "짝수\n"
     ]
    }
   ],
   "source": [
    "number = input(\"정수입력: \")#-1\n",
    "last_str = number[-1]#-2\n",
    "last_number = int(last_str)#-3\n",
    "\n",
    "\n",
    "if last_number == 1 or\\\n",
    "last_number == 3 or\\\n",
    "last_number == 5 or\\\n",
    "last_number == 7 or\\\n",
    "last_number == 9:\n",
    "    print(\"홀수\")\n",
    "    \n",
    "if last_number == 2 or\\\n",
    "last_number == 4 or\\\n",
    "last_number == 6 or\\\n",
    "last_number == 8 or\\\n",
    "last_number == 0:\n",
    "    print(\"짝수\")\n"
   ]
  },
  {
   "cell_type": "code",
   "execution_count": 62,
   "metadata": {},
   "outputs": [
    {
     "name": "stdout",
     "output_type": "stream",
     "text": [
      "정수 입력: 12345\n"
     ]
    },
    {
     "data": {
      "text/plain": [
       "int"
      ]
     },
     "execution_count": 62,
     "metadata": {},
     "output_type": "execute_result"
    }
   ],
   "source": [
    "number = int((input(\"정수 입력: \")[-1]))\n",
    "type(number)\n",
    "#위 ln[50]의 1, 2, 3을 합친것"
   ]
  },
  {
   "cell_type": "code",
   "execution_count": 52,
   "metadata": {},
   "outputs": [
    {
     "name": "stdout",
     "output_type": "stream",
     "text": [
      "정수입력: 12345\n",
      "홀수\n"
     ]
    }
   ],
   "source": [
    "number = input(\"정수입력: \")\n",
    "last_str = number[-1]\n",
    "\n",
    "if last_str in \"13579\":\n",
    "    print(\"홀수\")\n",
    "if last_str in \"24680\":\n",
    "    print(\"짝수\")"
   ]
  },
  {
   "cell_type": "code",
   "execution_count": 54,
   "metadata": {},
   "outputs": [
    {
     "name": "stdout",
     "output_type": "stream",
     "text": [
      "정수 입력: 123\n",
      "홀수\n"
     ]
    }
   ],
   "source": [
    "number = int(input(\"정수 입력: \"))\n",
    "if number % 2 == 1:\n",
    "    print(\"홀수\")\n",
    "if number % 2 == 0:\n",
    "    print(\"짝수\")"
   ]
  },
  {
   "cell_type": "code",
   "execution_count": 58,
   "metadata": {},
   "outputs": [
    {
     "data": {
      "text/plain": [
       "str"
      ]
     },
     "execution_count": 58,
     "metadata": {},
     "output_type": "execute_result"
    }
   ],
   "source": [
    "type(last_str)"
   ]
  }
 ],
 "metadata": {
  "kernelspec": {
   "display_name": "Python 3",
   "language": "python",
   "name": "python3"
  },
  "language_info": {
   "codemirror_mode": {
    "name": "ipython",
    "version": 3
   },
   "file_extension": ".py",
   "mimetype": "text/x-python",
   "name": "python",
   "nbconvert_exporter": "python",
   "pygments_lexer": "ipython3",
   "version": "3.7.4"
  }
 },
 "nbformat": 4,
 "nbformat_minor": 2
}
